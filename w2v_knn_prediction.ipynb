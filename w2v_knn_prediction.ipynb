{
 "cells": [
  {
   "cell_type": "markdown",
   "id": "clean-lodging",
   "metadata": {},
   "source": [
    "## Исследование данных"
   ]
  },
  {
   "cell_type": "code",
   "execution_count": 2,
   "id": "nonprofit-booking",
   "metadata": {},
   "outputs": [],
   "source": [
    "import json\n",
    "import pandas as pd"
   ]
  },
  {
   "cell_type": "markdown",
   "id": "loose-recognition",
   "metadata": {},
   "source": [
    "#### Импортирование данных Мурманска"
   ]
  },
  {
   "cell_type": "code",
   "execution_count": null,
   "id": "diagnostic-tonight",
   "metadata": {},
   "outputs": [],
   "source": [
    "a = []\n",
    "for n in range(1, 50):\n",
    "    content = pd.read_json(f\"http://31.172.135.12/api/events?page={n}\", lines=True)\n",
    "    a.extend(content['data'][0])"
   ]
  },
  {
   "cell_type": "code",
   "execution_count": null,
   "id": "charged-terrorist",
   "metadata": {
    "tags": []
   },
   "outputs": [],
   "source": [
    "df = pd.DataFrame(a)"
   ]
  },
  {
   "cell_type": "code",
   "execution_count": 67,
   "id": "stone-scottish",
   "metadata": {
    "tags": []
   },
   "outputs": [],
   "source": [
    "df = pd.read_csv('data/data.csv')"
   ]
  },
  {
   "cell_type": "code",
   "execution_count": 69,
   "id": "beautiful-antibody",
   "metadata": {},
   "outputs": [],
   "source": [
    "df.to_csv('data/data.csv', index=False)"
   ]
  },
  {
   "cell_type": "code",
   "execution_count": 38,
   "id": "million-approach",
   "metadata": {},
   "outputs": [
    {
     "name": "stdout",
     "output_type": "stream",
     "text": [
      "<class 'pandas.core.frame.DataFrame'>\n",
      "RangeIndex: 735 entries, 0 to 734\n",
      "Data columns (total 26 columns):\n",
      " #   Column                  Non-Null Count  Dtype  \n",
      "---  ------                  --------------  -----  \n",
      " 0   id                      735 non-null    int64  \n",
      " 1   user_id                 0 non-null      object \n",
      " 2   title                   735 non-null    object \n",
      " 3   description             735 non-null    object \n",
      " 4   images                  0 non-null      object \n",
      " 5   started_at              734 non-null    object \n",
      " 6   stopped_at              735 non-null    object \n",
      " 7   created_at              735 non-null    object \n",
      " 8   updated_at              735 non-null    object \n",
      " 9   deleted_at              0 non-null      object \n",
      " 10  annotation              722 non-null    object \n",
      " 11  city_id                 735 non-null    int64  \n",
      " 12  place_id                109 non-null    float64\n",
      " 13  label                   712 non-null    object \n",
      " 14  status                  735 non-null    object \n",
      " 15  category_id             735 non-null    int64  \n",
      " 16  tourism_type_id         36 non-null     float64\n",
      " 17  accessible_environment  735 non-null    bool   \n",
      " 18  adapter                 721 non-null    object \n",
      " 19  external_id             721 non-null    object \n",
      " 20  external_data           721 non-null    object \n",
      " 21  age_restriction_id      0 non-null      object \n",
      " 22  season_id               0 non-null      object \n",
      " 23  rating                  0 non-null      object \n",
      " 24  user_rating             0 non-null      object \n",
      " 25  rating_count            0 non-null      object \n",
      "dtypes: bool(1), float64(2), int64(3), object(20)\n",
      "memory usage: 144.4+ KB\n"
     ]
    }
   ],
   "source": [
    "df.info()"
   ]
  },
  {
   "cell_type": "code",
   "execution_count": 303,
   "id": "quarterly-quantity",
   "metadata": {},
   "outputs": [
    {
     "data": {
      "text/plain": [
       "Index(['user_id', 'images', 'deleted_at', 'age_restriction_id', 'season_id',\n",
       "       'rating', 'user_rating', 'rating_count'],\n",
       "      dtype='object')"
      ]
     },
     "execution_count": 303,
     "metadata": {},
     "output_type": "execute_result"
    }
   ],
   "source": [
    "nan_cols = df.columns[df.isna().all(0)]\n",
    "nan_cols"
   ]
  },
  {
   "cell_type": "code",
   "execution_count": 304,
   "id": "rough-subscription",
   "metadata": {},
   "outputs": [],
   "source": [
    "df.drop(nan_cols, axis=1, inplace=True)"
   ]
  },
  {
   "cell_type": "code",
   "execution_count": 306,
   "id": "hollow-leave",
   "metadata": {},
   "outputs": [
    {
     "data": {
      "text/html": [
       "<div>\n",
       "<style scoped>\n",
       "    .dataframe tbody tr th:only-of-type {\n",
       "        vertical-align: middle;\n",
       "    }\n",
       "\n",
       "    .dataframe tbody tr th {\n",
       "        vertical-align: top;\n",
       "    }\n",
       "\n",
       "    .dataframe thead th {\n",
       "        text-align: right;\n",
       "    }\n",
       "</style>\n",
       "<table border=\"1\" class=\"dataframe\">\n",
       "  <thead>\n",
       "    <tr style=\"text-align: right;\">\n",
       "      <th></th>\n",
       "      <th>id</th>\n",
       "      <th>title</th>\n",
       "      <th>description</th>\n",
       "      <th>started_at</th>\n",
       "      <th>stopped_at</th>\n",
       "      <th>created_at</th>\n",
       "      <th>updated_at</th>\n",
       "      <th>annotation</th>\n",
       "      <th>city_id</th>\n",
       "      <th>place_id</th>\n",
       "      <th>label</th>\n",
       "      <th>status</th>\n",
       "      <th>category_id</th>\n",
       "      <th>tourism_type_id</th>\n",
       "      <th>accessible_environment</th>\n",
       "      <th>adapter</th>\n",
       "      <th>external_id</th>\n",
       "      <th>external_data</th>\n",
       "    </tr>\n",
       "  </thead>\n",
       "  <tbody>\n",
       "    <tr>\n",
       "      <th>0</th>\n",
       "      <td>56</td>\n",
       "      <td>Выставка «Эклектика города»</td>\n",
       "      <td>&lt;p&gt;В экспозиции выставки будут представлены пе...</td>\n",
       "      <td>2020-12-11 11:00:00</td>\n",
       "      <td>2021-01-10 19:00:00</td>\n",
       "      <td>2020-11-19 18:16:17</td>\n",
       "      <td>2020-12-02 13:29:44</td>\n",
       "      <td>Представлены пейзажи города в исполнении мурма...</td>\n",
       "      <td>12</td>\n",
       "      <td>109.0</td>\n",
       "      <td>От 30 ₽</td>\n",
       "      <td>active</td>\n",
       "      <td>4</td>\n",
       "      <td>NaN</td>\n",
       "      <td>False</td>\n",
       "      <td>culture-ru</td>\n",
       "      <td>819726.0</td>\n",
       "      <td>{\"_id\":819726,\"name\":\"Выставка «Эклектика горо...</td>\n",
       "    </tr>\n",
       "    <tr>\n",
       "      <th>1</th>\n",
       "      <td>233</td>\n",
       "      <td>Конкурс «Фантазируем, мечтаем, книги сами сочи...</td>\n",
       "      <td>&lt;p&gt;МБУК «ЦБС ЗАТО Александровск» объявляет XXV...</td>\n",
       "      <td>2020-12-10 10:00:00</td>\n",
       "      <td>2021-01-29 18:00:00</td>\n",
       "      <td>2020-12-15 16:31:10</td>\n",
       "      <td>2020-12-23 02:19:09</td>\n",
       "      <td>Участники получат возможность проявить свои ли...</td>\n",
       "      <td>13</td>\n",
       "      <td>NaN</td>\n",
       "      <td>Бесплатно</td>\n",
       "      <td>active</td>\n",
       "      <td>2</td>\n",
       "      <td>NaN</td>\n",
       "      <td>False</td>\n",
       "      <td>culture-ru</td>\n",
       "      <td>853933.0</td>\n",
       "      <td>{\"_id\":853933,\"name\":\"Конкурс «Фантазируем, ме...</td>\n",
       "    </tr>\n",
       "    <tr>\n",
       "      <th>2</th>\n",
       "      <td>25</td>\n",
       "      <td>«Здравствуй, солнце!».</td>\n",
       "      <td>&lt;p&gt;«Здравствуй, Солнце!» — праздник в честь ок...</td>\n",
       "      <td>2021-01-01 00:00:00</td>\n",
       "      <td>2021-01-31 00:00:00</td>\n",
       "      <td>2020-09-29 12:21:50</td>\n",
       "      <td>2021-01-29 16:37:49</td>\n",
       "      <td>NaN</td>\n",
       "      <td>12</td>\n",
       "      <td>39.0</td>\n",
       "      <td>БЕСПЛАТНО</td>\n",
       "      <td>active</td>\n",
       "      <td>1</td>\n",
       "      <td>2.0</td>\n",
       "      <td>False</td>\n",
       "      <td>NaN</td>\n",
       "      <td>NaN</td>\n",
       "      <td>NaN</td>\n",
       "    </tr>\n",
       "    <tr>\n",
       "      <th>3</th>\n",
       "      <td>23</td>\n",
       "      <td>Международный кинофестиваль «Северный характер»</td>\n",
       "      <td>&lt;p&gt;Социально-культурный проект, в ходе которог...</td>\n",
       "      <td>2021-03-01 00:00:00</td>\n",
       "      <td>2021-04-30 00:00:00</td>\n",
       "      <td>2020-09-29 12:15:13</td>\n",
       "      <td>2020-10-28 15:43:19</td>\n",
       "      <td>NaN</td>\n",
       "      <td>12</td>\n",
       "      <td>NaN</td>\n",
       "      <td>СКОРО</td>\n",
       "      <td>active</td>\n",
       "      <td>1</td>\n",
       "      <td>4.0</td>\n",
       "      <td>False</td>\n",
       "      <td>NaN</td>\n",
       "      <td>NaN</td>\n",
       "      <td>NaN</td>\n",
       "    </tr>\n",
       "    <tr>\n",
       "      <th>4</th>\n",
       "      <td>27</td>\n",
       "      <td>День рыбака</td>\n",
       "      <td>&lt;p&gt;День рыбака в Мурманске всегда отмечается с...</td>\n",
       "      <td>2021-07-01 00:00:00</td>\n",
       "      <td>2021-07-31 00:00:00</td>\n",
       "      <td>2020-09-29 12:35:17</td>\n",
       "      <td>2020-10-01 14:36:30</td>\n",
       "      <td>NaN</td>\n",
       "      <td>12</td>\n",
       "      <td>39.0</td>\n",
       "      <td>бесплатно</td>\n",
       "      <td>active</td>\n",
       "      <td>7</td>\n",
       "      <td>4.0</td>\n",
       "      <td>False</td>\n",
       "      <td>NaN</td>\n",
       "      <td>NaN</td>\n",
       "      <td>NaN</td>\n",
       "    </tr>\n",
       "  </tbody>\n",
       "</table>\n",
       "</div>"
      ],
      "text/plain": [
       "    id                                              title  \\\n",
       "0   56                        Выставка «Эклектика города»   \n",
       "1  233  Конкурс «Фантазируем, мечтаем, книги сами сочи...   \n",
       "2   25                             «Здравствуй, солнце!».   \n",
       "3   23    Международный кинофестиваль «Северный характер»   \n",
       "4   27                                        День рыбака   \n",
       "\n",
       "                                         description           started_at  \\\n",
       "0  <p>В экспозиции выставки будут представлены пе...  2020-12-11 11:00:00   \n",
       "1  <p>МБУК «ЦБС ЗАТО Александровск» объявляет XXV...  2020-12-10 10:00:00   \n",
       "2  <p>«Здравствуй, Солнце!» — праздник в честь ок...  2021-01-01 00:00:00   \n",
       "3  <p>Социально-культурный проект, в ходе которог...  2021-03-01 00:00:00   \n",
       "4  <p>День рыбака в Мурманске всегда отмечается с...  2021-07-01 00:00:00   \n",
       "\n",
       "            stopped_at           created_at           updated_at  \\\n",
       "0  2021-01-10 19:00:00  2020-11-19 18:16:17  2020-12-02 13:29:44   \n",
       "1  2021-01-29 18:00:00  2020-12-15 16:31:10  2020-12-23 02:19:09   \n",
       "2  2021-01-31 00:00:00  2020-09-29 12:21:50  2021-01-29 16:37:49   \n",
       "3  2021-04-30 00:00:00  2020-09-29 12:15:13  2020-10-28 15:43:19   \n",
       "4  2021-07-31 00:00:00  2020-09-29 12:35:17  2020-10-01 14:36:30   \n",
       "\n",
       "                                          annotation  city_id  place_id  \\\n",
       "0  Представлены пейзажи города в исполнении мурма...       12     109.0   \n",
       "1  Участники получат возможность проявить свои ли...       13       NaN   \n",
       "2                                                NaN       12      39.0   \n",
       "3                                                NaN       12       NaN   \n",
       "4                                                NaN       12      39.0   \n",
       "\n",
       "       label  status  category_id  tourism_type_id  accessible_environment  \\\n",
       "0    От 30 ₽  active            4              NaN                   False   \n",
       "1  Бесплатно  active            2              NaN                   False   \n",
       "2  БЕСПЛАТНО  active            1              2.0                   False   \n",
       "3      СКОРО  active            1              4.0                   False   \n",
       "4  бесплатно  active            7              4.0                   False   \n",
       "\n",
       "      adapter  external_id                                      external_data  \n",
       "0  culture-ru     819726.0  {\"_id\":819726,\"name\":\"Выставка «Эклектика горо...  \n",
       "1  culture-ru     853933.0  {\"_id\":853933,\"name\":\"Конкурс «Фантазируем, ме...  \n",
       "2         NaN          NaN                                                NaN  \n",
       "3         NaN          NaN                                                NaN  \n",
       "4         NaN          NaN                                                NaN  "
      ]
     },
     "execution_count": 306,
     "metadata": {},
     "output_type": "execute_result"
    }
   ],
   "source": [
    "df.head()"
   ]
  },
  {
   "cell_type": "code",
   "execution_count": 45,
   "id": "printable-perfume",
   "metadata": {},
   "outputs": [
    {
     "data": {
      "text/plain": [
       "id                        735\n",
       "title                     714\n",
       "description               734\n",
       "started_at                466\n",
       "stopped_at                483\n",
       "created_at                701\n",
       "updated_at                735\n",
       "annotation                680\n",
       "city_id                    12\n",
       "place_id                   22\n",
       "label                      28\n",
       "status                      1\n",
       "category_id                 9\n",
       "tourism_type_id             4\n",
       "accessible_environment      2\n",
       "adapter                     1\n",
       "external_id               721\n",
       "external_data             721\n",
       "dtype: int64"
      ]
     },
     "execution_count": 45,
     "metadata": {},
     "output_type": "execute_result"
    }
   ],
   "source": [
    "df.nunique()"
   ]
  },
  {
   "cell_type": "markdown",
   "id": "exotic-domain",
   "metadata": {},
   "source": [
    "#### Данные с kudago по Москве"
   ]
  },
  {
   "cell_type": "code",
   "execution_count": 12,
   "id": "partial-iraqi",
   "metadata": {},
   "outputs": [],
   "source": [
    "import json\n",
    "resp1 = json.load(open('data/response_1616889786114.json', encoding='utf-8'))"
   ]
  },
  {
   "cell_type": "code",
   "execution_count": 13,
   "id": "equivalent-rebound",
   "metadata": {},
   "outputs": [],
   "source": [
    "df = pd.DataFrame(([list(*p.items()) for p in resp1]), columns=['Description', 'spam'])"
   ]
  },
  {
   "cell_type": "code",
   "execution_count": 14,
   "id": "coupled-secret",
   "metadata": {},
   "outputs": [],
   "source": [
    "df.drop_duplicates(inplace=True)"
   ]
  },
  {
   "cell_type": "code",
   "execution_count": 292,
   "id": "provincial-bargain",
   "metadata": {},
   "outputs": [
    {
     "name": "stdout",
     "output_type": "stream",
     "text": [
      "Requirement already satisfied: html2text in c:\\users\\rodion\\appdata\\local\\programs\\python\\python39\\lib\\site-packages (2020.1.16)\n"
     ]
    }
   ],
   "source": [
    "!pip install html2text"
   ]
  },
  {
   "cell_type": "code",
   "execution_count": 15,
   "id": "continental-mississippi",
   "metadata": {},
   "outputs": [],
   "source": [
    "import html2text"
   ]
  },
  {
   "cell_type": "markdown",
   "id": "curious-junior",
   "metadata": {},
   "source": [
    "#### Предобработка"
   ]
  },
  {
   "cell_type": "code",
   "execution_count": 16,
   "id": "medium-tumor",
   "metadata": {},
   "outputs": [],
   "source": [
    "df.Description = df.Description.apply(html2text.html2text)\n",
    "\n",
    "def normalize(df: pd.Series):\n",
    "    df = df.str.lower()\n",
    "    df = df.str.replace('[\\W_]', ' ', regex=True)\n",
    "    df = df.apply(lambda x: [i for i in x.split() if len(i) > 1])\n",
    "    return df\n",
    "\n",
    "df.Description = normalize(df.Description)"
   ]
  },
  {
   "cell_type": "markdown",
   "id": "awful-sellers",
   "metadata": {},
   "source": [
    "#### Обучение Word2Vec и усреднение векторов слов"
   ]
  },
  {
   "cell_type": "code",
   "execution_count": 19,
   "id": "international-keeping",
   "metadata": {},
   "outputs": [],
   "source": [
    "import numpy as np\n",
    "import gensim\n",
    "from gensim.models import Word2Vec\n",
    "\n",
    "def word_averaging(wv, words):\n",
    "    mean = np.zeros((wv.vector_size,))\n",
    "    \n",
    "    for word in words:\n",
    "        if word in wv.vocab:\n",
    "            mean += wv.get_vector(word)\n",
    "\n",
    "    mean = gensim.matutils.unitvec(mean)\n",
    "    return mean\n",
    "\n",
    "def word_averaging_list(wv, text_list):\n",
    "    return np.vstack([word_averaging(wv, review) for review in text_list])"
   ]
  },
  {
   "cell_type": "code",
   "execution_count": 20,
   "id": "cultural-annex",
   "metadata": {},
   "outputs": [],
   "source": [
    "model = Word2Vec(df.Description, size=160, window=30, min_count=2, workers=12, iter=10, sg=1)"
   ]
  },
  {
   "cell_type": "markdown",
   "id": "unnecessary-taylor",
   "metadata": {},
   "source": [
    "## Предсказания для мурманских мероприятий"
   ]
  },
  {
   "cell_type": "code",
   "execution_count": 21,
   "id": "capital-bloom",
   "metadata": {},
   "outputs": [],
   "source": [
    "df1 = pd.read_csv('data/data.csv')"
   ]
  },
  {
   "cell_type": "code",
   "execution_count": 22,
   "id": "concerned-edinburgh",
   "metadata": {},
   "outputs": [],
   "source": [
    "df1.description = df1.description.apply(html2text.html2text)\n",
    "\n",
    "df1['normalized'] = normalize(df1.description)\n",
    "X_wv = word_averaging_list(model.wv, df1.normalized)"
   ]
  },
  {
   "cell_type": "markdown",
   "id": "recognized-average",
   "metadata": {},
   "source": [
    "#### Обучение ближайших соседей"
   ]
  },
  {
   "cell_type": "code",
   "execution_count": 23,
   "id": "foreign-commission",
   "metadata": {
    "tags": []
   },
   "outputs": [
    {
     "data": {
      "text/plain": [
       "NearestNeighbors(n_jobs=12)"
      ]
     },
     "execution_count": 23,
     "metadata": {},
     "output_type": "execute_result"
    }
   ],
   "source": [
    "from sklearn.neighbors import NearestNeighbors\n",
    "nn = NearestNeighbors(n_jobs=12)\n",
    "nn.fit(X_wv)"
   ]
  },
  {
   "cell_type": "markdown",
   "id": "excessive-ottawa",
   "metadata": {},
   "source": [
    "### Первый пример"
   ]
  },
  {
   "cell_type": "markdown",
   "id": "needed-bishop",
   "metadata": {},
   "source": [
    "#### Описание мероприятия"
   ]
  },
  {
   "cell_type": "code",
   "execution_count": 65,
   "id": "toxic-hybrid",
   "metadata": {},
   "outputs": [
    {
     "name": "stdout",
     "output_type": "stream",
     "text": [
      "В экспозиции выставки будут представлены пейзажи города в исполнении\n",
      "мурманских художников из частной коллекции Алексея Макарова﻿\n",
      "\n",
      "Алексей Макаров с 1997 по настоящее время ведущий актер драматического театра\n",
      "Северного флота.\n",
      "\n",
      "На выставке зрители увидят Портреты Мурманска в исполнении разных художников:\n",
      "Виктории Зубицкой, Татьяны Ковалёвой, Николая Ковалёва, Николая Морозова,\n",
      "Виталия Бубенцова, Анатолия Шаковца, Анастасии Берёзы, Никиты Ковалёва и\n",
      "других известных художников Мурманска и Мурманск\n"
     ]
    }
   ],
   "source": [
    "n_sample = 0\n",
    "print(df1.loc[n_sample].description[:500])"
   ]
  },
  {
   "cell_type": "markdown",
   "id": "wicked-happening",
   "metadata": {},
   "source": [
    "#### Похожие на данное мероприятие"
   ]
  },
  {
   "cell_type": "code",
   "execution_count": 42,
   "id": "authentic-virtue",
   "metadata": {},
   "outputs": [
    {
     "name": "stdout",
     "output_type": "stream",
     "text": [
      "Выставка «Отечественное изобразительное искусство XVIII-XX веков»\n",
      "_______\n",
      "Выставка «Саамские краски»\n",
      "_______\n",
      "Выставка «Любительское изобразительное и ДПИ Мурманской области»\n",
      "_______\n",
      "Выставка «Александр III и Александровск»\n",
      "_______\n",
      "Виртуальная выставка «Мир изобразительного искусства»\n"
     ]
    }
   ],
   "source": [
    "dist, nums = nn.kneighbors(X_wv[None, n_sample], 6)\n",
    "print(*df1.iloc[nums[0, 1:]].title.str[:139], sep='\\n_______\\n')"
   ]
  },
  {
   "cell_type": "markdown",
   "id": "objective-helena",
   "metadata": {},
   "source": [
    "### Второй пример"
   ]
  },
  {
   "cell_type": "markdown",
   "id": "considered-macedonia",
   "metadata": {},
   "source": [
    "#### Описание мероприятия"
   ]
  },
  {
   "cell_type": "code",
   "execution_count": 63,
   "id": "mental-candy",
   "metadata": {},
   "outputs": [
    {
     "name": "stdout",
     "output_type": "stream",
     "text": [
      "Ежегодно в середине лета на берегу океана принимает гостей арктический\n",
      "фестиваль «Териберка». Известные российские музыканты, живые выступления и\n",
      "незабываемая атмосфера праздника притягивают сюда тысячи туристов.\n",
      "\n",
      "Фишка фестиваля — открытые мастер-классы именитых шеф-поваров. Лучшие из\n",
      "лучших здесь соревнуются в мастерстве и угощают гостей блюдами арктической\n",
      "кухни. Морские деликатесы, свежайшие морепродукты, северные ягоды и необычное\n",
      "мясо с ресторанной подачей — настоящий рай для гурманов\n"
     ]
    }
   ],
   "source": [
    "n_sample = 15\n",
    "print(df1.loc[n_sample].description[:495])"
   ]
  },
  {
   "cell_type": "markdown",
   "id": "freelance-taste",
   "metadata": {},
   "source": [
    "#### Похожие на данное мероприятие"
   ]
  },
  {
   "cell_type": "code",
   "execution_count": 45,
   "id": "premium-temperature",
   "metadata": {},
   "outputs": [
    {
     "name": "stdout",
     "output_type": "stream",
     "text": [
      "Традиционные соревнования  Поморская гребная регата\n",
      "_______\n",
      "Праздник севера\n",
      "_______\n",
      "«Фольклор Град»\n",
      "_______\n",
      "Международный культурный фестиваль «Птица Баренц»\n",
      "_______\n",
      "Концерт «Зимняя жара»\n"
     ]
    }
   ],
   "source": [
    "dist, nums = nn.kneighbors(X_wv[None, n_sample], 6)\n",
    "print(*df1.iloc[nums[0, 1:]].title.str[:139], sep='\\n_______\\n')"
   ]
  },
  {
   "cell_type": "markdown",
   "id": "dominant-preliminary",
   "metadata": {},
   "source": [
    "### Третий пример"
   ]
  },
  {
   "cell_type": "markdown",
   "id": "expected-contest",
   "metadata": {},
   "source": [
    "#### Описание мероприятия"
   ]
  },
  {
   "cell_type": "code",
   "execution_count": 57,
   "id": "coordinate-crowd",
   "metadata": {},
   "outputs": [
    {
     "name": "stdout",
     "output_type": "stream",
     "text": [
      "Одна из самых героических и романтических морских профессий – моряк-подводник.\n",
      "Об отличающей их отваге, полной самоотдаче делу, железной дисциплине и морском\n",
      "товариществе сложено немало песен, с которыми библиотекари предлагают\n",
      "познакомиться.\n",
      "\n",
      "В ходе встречи прозвучит стихотворение И. Фисановича «Строевая подводная»,\n",
      "ставшее неофициальной песней–гимном подводников в годы Великой Отечественной\n",
      "войны.\n",
      "\n",
      "Присутствующим будет рассказано и об истории создания известной музыкальной\n",
      "композиции «Усталая подлодка» А. Пахмутовой и Н. Добронравов\n"
     ]
    }
   ],
   "source": [
    "n_sample = 25\n",
    "print(df1.loc[n_sample].description[:540])"
   ]
  },
  {
   "cell_type": "markdown",
   "id": "fiscal-greek",
   "metadata": {},
   "source": [
    "#### Похожие на данное мероприятие"
   ]
  },
  {
   "cell_type": "code",
   "execution_count": 48,
   "id": "complex-scholar",
   "metadata": {},
   "outputs": [
    {
     "name": "stdout",
     "output_type": "stream",
     "text": [
      "Колесо истории «Память в сердце храня»\n",
      "_______\n",
      "Презентация книги «Оленетранспортные батальоны в годы Великой Отечественной войны»\n",
      "_______\n",
      "Час мужества «Свет Сталинградской победы»\n",
      "_______\n",
      "Музыкальная гостиная «Образ пленительный, образ прекрасный»\n",
      "_______\n",
      "Историческое досье «Люди мира на минуту встаньте!»\n"
     ]
    }
   ],
   "source": [
    "dist, nums = nn.kneighbors(X_wv[None, n_sample], 6)\n",
    "print(*df1.iloc[nums[0, 1:]].title.str[:139], sep='\\n_______\\n')"
   ]
  }
 ],
 "metadata": {
  "kernelspec": {
   "display_name": "Python 3",
   "language": "python",
   "name": "python3"
  },
  "language_info": {
   "codemirror_mode": {
    "name": "ipython",
    "version": 3
   },
   "file_extension": ".py",
   "mimetype": "text/x-python",
   "name": "python",
   "nbconvert_exporter": "python",
   "pygments_lexer": "ipython3",
   "version": "3.9.1"
  }
 },
 "nbformat": 4,
 "nbformat_minor": 5
}
