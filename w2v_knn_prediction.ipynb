{
 "cells": [
  {
   "cell_type": "markdown",
   "metadata": {},
   "source": [
    "## Исследование данных"
   ]
  },
  {
   "cell_type": "code",
   "execution_count": 1,
   "metadata": {},
   "outputs": [],
   "source": [
    "import json\n",
    "import pandas as pd"
   ]
  },
  {
   "cell_type": "markdown",
   "metadata": {},
   "source": [
    "#### Импортирование данных Мурманска"
   ]
  },
  {
   "cell_type": "code",
   "execution_count": 2,
   "metadata": {},
   "outputs": [],
   "source": [
    "a = []\n",
    "for n in range(1, 50):\n",
    "    content = pd.read_json(f\"http://31.172.135.12/api/events?page={n}\", lines=True)\n",
    "    a.extend(content['data'][0])"
   ]
  },
  {
   "cell_type": "code",
   "execution_count": 3,
   "metadata": {
    "tags": []
   },
   "outputs": [],
   "source": [
    "df = pd.DataFrame(a)"
   ]
  },
  {
   "cell_type": "code",
   "execution_count": 4,
   "metadata": {},
   "outputs": [],
   "source": [
    "df.to_csv('data.csv', index=False)"
   ]
  },
  {
   "cell_type": "code",
   "execution_count": 5,
   "metadata": {},
   "outputs": [
    {
     "name": "stdout",
     "output_type": "stream",
     "text": [
      "<class 'pandas.core.frame.DataFrame'>\n",
      "RangeIndex: 735 entries, 0 to 734\n",
      "Data columns (total 26 columns):\n",
      " #   Column                  Non-Null Count  Dtype  \n",
      "---  ------                  --------------  -----  \n",
      " 0   id                      735 non-null    int64  \n",
      " 1   user_id                 0 non-null      object \n",
      " 2   title                   735 non-null    object \n",
      " 3   description             735 non-null    object \n",
      " 4   images                  0 non-null      object \n",
      " 5   started_at              734 non-null    object \n",
      " 6   stopped_at              735 non-null    object \n",
      " 7   created_at              735 non-null    object \n",
      " 8   updated_at              735 non-null    object \n",
      " 9   deleted_at              0 non-null      object \n",
      " 10  annotation              722 non-null    object \n",
      " 11  city_id                 735 non-null    int64  \n",
      " 12  place_id                109 non-null    float64\n",
      " 13  label                   712 non-null    object \n",
      " 14  status                  735 non-null    object \n",
      " 15  category_id             735 non-null    int64  \n",
      " 16  tourism_type_id         36 non-null     float64\n",
      " 17  accessible_environment  735 non-null    bool   \n",
      " 18  adapter                 721 non-null    object \n",
      " 19  external_id             721 non-null    object \n",
      " 20  external_data           721 non-null    object \n",
      " 21  age_restriction_id      0 non-null      object \n",
      " 22  season_id               0 non-null      object \n",
      " 23  rating                  0 non-null      object \n",
      " 24  user_rating             0 non-null      object \n",
      " 25  rating_count            0 non-null      object \n",
      "dtypes: bool(1), float64(2), int64(3), object(20)\n",
      "memory usage: 144.4+ KB\n"
     ]
    }
   ],
   "source": [
    "df.info()"
   ]
  },
  {
   "cell_type": "code",
   "execution_count": 6,
   "metadata": {},
   "outputs": [
    {
     "data": {
      "text/plain": [
       "Index(['user_id', 'images', 'deleted_at', 'age_restriction_id', 'season_id',\n",
       "       'rating', 'user_rating', 'rating_count'],\n",
       "      dtype='object')"
      ]
     },
     "execution_count": 6,
     "metadata": {},
     "output_type": "execute_result"
    }
   ],
   "source": [
    "nan_cols = df.columns[df.isna().all(0)]\n",
    "nan_cols"
   ]
  },
  {
   "cell_type": "code",
   "execution_count": 7,
   "metadata": {},
   "outputs": [],
   "source": [
    "df.drop(nan_cols, axis=1, inplace=True)"
   ]
  },
  {
   "cell_type": "code",
   "execution_count": 8,
   "metadata": {},
   "outputs": [
    {
     "data": {
      "text/html": [
       "<div>\n",
       "<style scoped>\n",
       "    .dataframe tbody tr th:only-of-type {\n",
       "        vertical-align: middle;\n",
       "    }\n",
       "\n",
       "    .dataframe tbody tr th {\n",
       "        vertical-align: top;\n",
       "    }\n",
       "\n",
       "    .dataframe thead th {\n",
       "        text-align: right;\n",
       "    }\n",
       "</style>\n",
       "<table border=\"1\" class=\"dataframe\">\n",
       "  <thead>\n",
       "    <tr style=\"text-align: right;\">\n",
       "      <th></th>\n",
       "      <th>id</th>\n",
       "      <th>city_id</th>\n",
       "      <th>place_id</th>\n",
       "      <th>category_id</th>\n",
       "      <th>tourism_type_id</th>\n",
       "    </tr>\n",
       "  </thead>\n",
       "  <tbody>\n",
       "    <tr>\n",
       "      <th>count</th>\n",
       "      <td>735.000000</td>\n",
       "      <td>735.000000</td>\n",
       "      <td>109.000000</td>\n",
       "      <td>735.000000</td>\n",
       "      <td>36.000000</td>\n",
       "    </tr>\n",
       "    <tr>\n",
       "      <th>mean</th>\n",
       "      <td>429.512925</td>\n",
       "      <td>11.697959</td>\n",
       "      <td>184.963303</td>\n",
       "      <td>5.029932</td>\n",
       "      <td>3.805556</td>\n",
       "    </tr>\n",
       "    <tr>\n",
       "      <th>std</th>\n",
       "      <td>223.086729</td>\n",
       "      <td>1.907588</td>\n",
       "      <td>215.997168</td>\n",
       "      <td>2.313137</td>\n",
       "      <td>0.576663</td>\n",
       "    </tr>\n",
       "    <tr>\n",
       "      <th>min</th>\n",
       "      <td>23.000000</td>\n",
       "      <td>2.000000</td>\n",
       "      <td>39.000000</td>\n",
       "      <td>1.000000</td>\n",
       "      <td>2.000000</td>\n",
       "    </tr>\n",
       "    <tr>\n",
       "      <th>25%</th>\n",
       "      <td>242.500000</td>\n",
       "      <td>12.000000</td>\n",
       "      <td>86.000000</td>\n",
       "      <td>3.000000</td>\n",
       "      <td>4.000000</td>\n",
       "    </tr>\n",
       "    <tr>\n",
       "      <th>50%</th>\n",
       "      <td>437.000000</td>\n",
       "      <td>12.000000</td>\n",
       "      <td>109.000000</td>\n",
       "      <td>4.000000</td>\n",
       "      <td>4.000000</td>\n",
       "    </tr>\n",
       "    <tr>\n",
       "      <th>75%</th>\n",
       "      <td>621.500000</td>\n",
       "      <td>12.000000</td>\n",
       "      <td>117.000000</td>\n",
       "      <td>8.000000</td>\n",
       "      <td>4.000000</td>\n",
       "    </tr>\n",
       "    <tr>\n",
       "      <th>max</th>\n",
       "      <td>829.000000</td>\n",
       "      <td>17.000000</td>\n",
       "      <td>752.000000</td>\n",
       "      <td>10.000000</td>\n",
       "      <td>5.000000</td>\n",
       "    </tr>\n",
       "  </tbody>\n",
       "</table>\n",
       "</div>"
      ],
      "text/plain": [
       "               id     city_id    place_id  category_id  tourism_type_id\n",
       "count  735.000000  735.000000  109.000000   735.000000        36.000000\n",
       "mean   429.512925   11.697959  184.963303     5.029932         3.805556\n",
       "std    223.086729    1.907588  215.997168     2.313137         0.576663\n",
       "min     23.000000    2.000000   39.000000     1.000000         2.000000\n",
       "25%    242.500000   12.000000   86.000000     3.000000         4.000000\n",
       "50%    437.000000   12.000000  109.000000     4.000000         4.000000\n",
       "75%    621.500000   12.000000  117.000000     8.000000         4.000000\n",
       "max    829.000000   17.000000  752.000000    10.000000         5.000000"
      ]
     },
     "execution_count": 8,
     "metadata": {},
     "output_type": "execute_result"
    }
   ],
   "source": [
    "df.describe()"
   ]
  },
  {
   "cell_type": "code",
   "execution_count": 9,
   "metadata": {},
   "outputs": [
    {
     "data": {
      "text/plain": [
       "id                        735\n",
       "title                     714\n",
       "description               734\n",
       "started_at                466\n",
       "stopped_at                483\n",
       "created_at                701\n",
       "updated_at                735\n",
       "annotation                680\n",
       "city_id                    12\n",
       "place_id                   22\n",
       "label                      28\n",
       "status                      1\n",
       "category_id                 9\n",
       "tourism_type_id             4\n",
       "accessible_environment      2\n",
       "adapter                     1\n",
       "external_id               721\n",
       "external_data             721\n",
       "dtype: int64"
      ]
     },
     "execution_count": 9,
     "metadata": {},
     "output_type": "execute_result"
    }
   ],
   "source": [
    "df.nunique()"
   ]
  },
  {
   "cell_type": "code",
   "execution_count": 10,
   "metadata": {},
   "outputs": [],
   "source": [
    "import logging\n",
    "logging.basicConfig(format='%(asctime)s : %(levelname)s : %(message)s', level=logging.INFO)"
   ]
  },
  {
   "cell_type": "code",
   "execution_count": 11,
   "metadata": {},
   "outputs": [],
   "source": [
    "import numpy as np\n",
    "def word_averaging(wv, words):\n",
    "    mean = np.zeros((wv.vector_size,))\n",
    "    \n",
    "    for word in words:\n",
    "        if word in wv.vocab:\n",
    "            mean += wv.get_vector(word)\n",
    "\n",
    "    if all(mean == 0.):\n",
    "        logging.warning(\"cannot compute similarity with no input %s\", words)\n",
    "        return mean\n",
    "\n",
    "    mean = gensim.matutils.unitvec(mean)\n",
    "    return mean\n",
    "\n",
    "def word_averaging_list(wv, text_list):\n",
    "    return np.vstack([word_averaging(wv, review) for review in text_list])"
   ]
  },
  {
   "cell_type": "markdown",
   "metadata": {},
   "source": [
    "#### Данные с kudago по Москве"
   ]
  },
  {
   "cell_type": "code",
   "execution_count": 12,
   "metadata": {},
   "outputs": [],
   "source": [
    "import json\n",
    "resp1 = json.load(open('response_1616889786114.json', encoding='utf-8'))"
   ]
  },
  {
   "cell_type": "code",
   "execution_count": 13,
   "metadata": {},
   "outputs": [],
   "source": [
    "df = pd.DataFrame(([list(*p.items()) for p in resp1]), columns=['Description', 'spam'])"
   ]
  },
  {
   "cell_type": "code",
   "execution_count": 14,
   "metadata": {},
   "outputs": [],
   "source": [
    "df.drop_duplicates(inplace=True)"
   ]
  },
  {
   "cell_type": "code",
   "execution_count": 15,
   "metadata": {},
   "outputs": [
    {
     "name": "stdout",
     "output_type": "stream",
     "text": [
      "Requirement already satisfied: html2text in c:\\users\\qwed1\\anaconda3\\lib\\site-packages (2020.1.16)\n"
     ]
    }
   ],
   "source": [
    "!pip install html2text"
   ]
  },
  {
   "cell_type": "code",
   "execution_count": 16,
   "metadata": {},
   "outputs": [],
   "source": [
    "import html2text"
   ]
  },
  {
   "cell_type": "markdown",
   "metadata": {},
   "source": [
    "#### Предобработка"
   ]
  },
  {
   "cell_type": "code",
   "execution_count": 17,
   "metadata": {},
   "outputs": [],
   "source": [
    "df.Description = df.Description.apply(html2text.html2text)\n",
    "df.Description = df.Description.str.lower()\n",
    "df.Description = df.Description.str.replace('[\\W_]', ' ', regex=True)\n",
    "df.Description = df.Description.apply(lambda x: [i for i in x.split() if len(i) > 1])"
   ]
  },
  {
   "cell_type": "code",
   "execution_count": 18,
   "metadata": {},
   "outputs": [],
   "source": [
    "# conda install -c anaconda gensim"
   ]
  },
  {
   "cell_type": "markdown",
   "metadata": {},
   "source": [
    "#### Обучение Word2Vec и усреднение векторов слов"
   ]
  },
  {
   "cell_type": "code",
   "execution_count": 22,
   "metadata": {},
   "outputs": [],
   "source": [
    "from gensim.models import Word2Vec\n",
    "import gensim"
   ]
  },
  {
   "cell_type": "code",
   "execution_count": 20,
   "metadata": {},
   "outputs": [
    {
     "name": "stderr",
     "output_type": "stream",
     "text": [
      "2021-03-28 11:13:35,788 : INFO : collecting all words and their counts\n",
      "2021-03-28 11:13:35,788 : INFO : PROGRESS: at sentence #0, processed 0 words, keeping 0 word types\n",
      "2021-03-28 11:13:35,891 : INFO : collected 72056 word types from a corpus of 478538 raw words and 3395 sentences\n",
      "2021-03-28 11:13:35,899 : INFO : Loading a fresh vocabulary\n",
      "2021-03-28 11:13:35,995 : INFO : effective_min_count=2 retains 33024 unique words (45% of original 72056, drops 39032)\n",
      "2021-03-28 11:13:35,995 : INFO : effective_min_count=2 leaves 439506 word corpus (91% of original 478538, drops 39032)\n",
      "2021-03-28 11:13:36,084 : INFO : deleting the raw counts dictionary of 72056 items\n",
      "2021-03-28 11:13:36,084 : INFO : sample=0.001 downsamples 21 most-common words\n",
      "2021-03-28 11:13:36,084 : INFO : downsampling leaves estimated 416385 word corpus (94.7% of prior 439506)\n",
      "2021-03-28 11:13:36,156 : INFO : estimated required memory for 33024 words and 160 dimensions: 58782720 bytes\n",
      "2021-03-28 11:13:36,156 : INFO : resetting layer weights\n",
      "2021-03-28 11:13:41,238 : INFO : training model with 12 workers on 33024 vocabulary and 160 features, using sg=1 hs=0 sample=0.001 negative=5 window=30\n",
      "2021-03-28 11:13:42,539 : INFO : EPOCH 1 - PROGRESS: at 24.09% examples, 86253 words/s, in_qsize 23, out_qsize 0\n",
      "2021-03-28 11:13:43,565 : INFO : EPOCH 1 - PROGRESS: at 70.66% examples, 119131 words/s, in_qsize 17, out_qsize 0\n",
      "2021-03-28 11:13:44,238 : INFO : worker thread finished; awaiting finish of 11 more threads\n",
      "2021-03-28 11:13:44,246 : INFO : worker thread finished; awaiting finish of 10 more threads\n",
      "2021-03-28 11:13:44,294 : INFO : worker thread finished; awaiting finish of 9 more threads\n",
      "2021-03-28 11:13:44,294 : INFO : worker thread finished; awaiting finish of 8 more threads\n",
      "2021-03-28 11:13:44,310 : INFO : worker thread finished; awaiting finish of 7 more threads\n",
      "2021-03-28 11:13:44,326 : INFO : worker thread finished; awaiting finish of 6 more threads\n",
      "2021-03-28 11:13:44,344 : INFO : worker thread finished; awaiting finish of 5 more threads\n",
      "2021-03-28 11:13:44,368 : INFO : worker thread finished; awaiting finish of 4 more threads\n",
      "2021-03-28 11:13:44,384 : INFO : worker thread finished; awaiting finish of 3 more threads\n",
      "2021-03-28 11:13:44,384 : INFO : worker thread finished; awaiting finish of 2 more threads\n",
      "2021-03-28 11:13:44,415 : INFO : worker thread finished; awaiting finish of 1 more threads\n",
      "2021-03-28 11:13:44,423 : INFO : worker thread finished; awaiting finish of 0 more threads\n",
      "2021-03-28 11:13:44,423 : INFO : EPOCH - 1 : training on 478538 raw words (416439 effective words) took 3.2s, 131092 effective words/s\n",
      "2021-03-28 11:13:45,447 : INFO : EPOCH 2 - PROGRESS: at 20.85% examples, 100612 words/s, in_qsize 23, out_qsize 0\n",
      "2021-03-28 11:13:46,478 : INFO : EPOCH 2 - PROGRESS: at 59.03% examples, 113487 words/s, in_qsize 22, out_qsize 0\n",
      "2021-03-28 11:13:47,177 : INFO : worker thread finished; awaiting finish of 11 more threads\n",
      "2021-03-28 11:13:47,217 : INFO : worker thread finished; awaiting finish of 10 more threads\n",
      "2021-03-28 11:13:47,275 : INFO : worker thread finished; awaiting finish of 9 more threads\n",
      "2021-03-28 11:13:47,319 : INFO : worker thread finished; awaiting finish of 8 more threads\n",
      "2021-03-28 11:13:47,515 : INFO : EPOCH 2 - PROGRESS: at 88.42% examples, 115365 words/s, in_qsize 7, out_qsize 1\n",
      "2021-03-28 11:13:47,515 : INFO : worker thread finished; awaiting finish of 7 more threads\n",
      "2021-03-28 11:13:47,542 : INFO : worker thread finished; awaiting finish of 6 more threads\n",
      "2021-03-28 11:13:47,606 : INFO : worker thread finished; awaiting finish of 5 more threads\n",
      "2021-03-28 11:13:47,649 : INFO : worker thread finished; awaiting finish of 4 more threads\n",
      "2021-03-28 11:13:47,673 : INFO : worker thread finished; awaiting finish of 3 more threads\n",
      "2021-03-28 11:13:47,673 : INFO : worker thread finished; awaiting finish of 2 more threads\n",
      "2021-03-28 11:13:47,681 : INFO : worker thread finished; awaiting finish of 1 more threads\n",
      "2021-03-28 11:13:47,689 : INFO : worker thread finished; awaiting finish of 0 more threads\n",
      "2021-03-28 11:13:47,689 : INFO : EPOCH - 2 : training on 478538 raw words (416317 effective words) took 3.3s, 127808 effective words/s\n",
      "2021-03-28 11:13:49,191 : INFO : EPOCH 3 - PROGRESS: at 24.09% examples, 74591 words/s, in_qsize 24, out_qsize 0\n",
      "2021-03-28 11:13:50,269 : INFO : EPOCH 3 - PROGRESS: at 77.56% examples, 116675 words/s, in_qsize 14, out_qsize 0\n",
      "2021-03-28 11:13:50,622 : INFO : worker thread finished; awaiting finish of 11 more threads\n",
      "2021-03-28 11:13:50,690 : INFO : worker thread finished; awaiting finish of 10 more threads\n",
      "2021-03-28 11:13:50,702 : INFO : worker thread finished; awaiting finish of 9 more threads\n",
      "2021-03-28 11:13:50,773 : INFO : worker thread finished; awaiting finish of 8 more threads\n",
      "2021-03-28 11:13:50,790 : INFO : worker thread finished; awaiting finish of 7 more threads\n",
      "2021-03-28 11:13:50,790 : INFO : worker thread finished; awaiting finish of 6 more threads\n",
      "2021-03-28 11:13:50,838 : INFO : worker thread finished; awaiting finish of 5 more threads\n",
      "2021-03-28 11:13:50,862 : INFO : worker thread finished; awaiting finish of 4 more threads\n",
      "2021-03-28 11:13:50,870 : INFO : worker thread finished; awaiting finish of 3 more threads\n",
      "2021-03-28 11:13:50,902 : INFO : worker thread finished; awaiting finish of 2 more threads\n",
      "2021-03-28 11:13:50,950 : INFO : worker thread finished; awaiting finish of 1 more threads\n",
      "2021-03-28 11:13:50,966 : INFO : worker thread finished; awaiting finish of 0 more threads\n",
      "2021-03-28 11:13:50,966 : INFO : EPOCH - 3 : training on 478538 raw words (416423 effective words) took 3.3s, 127249 effective words/s\n",
      "2021-03-28 11:13:51,971 : INFO : EPOCH 4 - PROGRESS: at 13.76% examples, 67913 words/s, in_qsize 23, out_qsize 1\n",
      "2021-03-28 11:13:52,984 : INFO : EPOCH 4 - PROGRESS: at 53.87% examples, 106932 words/s, in_qsize 23, out_qsize 0\n",
      "2021-03-28 11:13:53,908 : INFO : worker thread finished; awaiting finish of 11 more threads\n",
      "2021-03-28 11:13:53,971 : INFO : worker thread finished; awaiting finish of 10 more threads\n",
      "2021-03-28 11:13:53,979 : INFO : worker thread finished; awaiting finish of 9 more threads\n",
      "2021-03-28 11:13:54,075 : INFO : EPOCH 4 - PROGRESS: at 87.28% examples, 111745 words/s, in_qsize 8, out_qsize 1\n",
      "2021-03-28 11:13:54,075 : INFO : worker thread finished; awaiting finish of 8 more threads\n",
      "2021-03-28 11:13:54,121 : INFO : worker thread finished; awaiting finish of 7 more threads\n",
      "2021-03-28 11:13:54,187 : INFO : worker thread finished; awaiting finish of 6 more threads\n",
      "2021-03-28 11:13:54,195 : INFO : worker thread finished; awaiting finish of 5 more threads\n",
      "2021-03-28 11:13:54,219 : INFO : worker thread finished; awaiting finish of 4 more threads\n",
      "2021-03-28 11:13:54,235 : INFO : worker thread finished; awaiting finish of 3 more threads\n",
      "2021-03-28 11:13:54,243 : INFO : worker thread finished; awaiting finish of 2 more threads\n",
      "2021-03-28 11:13:54,275 : INFO : worker thread finished; awaiting finish of 1 more threads\n",
      "2021-03-28 11:13:54,283 : INFO : worker thread finished; awaiting finish of 0 more threads\n",
      "2021-03-28 11:13:54,283 : INFO : EPOCH - 4 : training on 478538 raw words (416259 effective words) took 3.3s, 125789 effective words/s\n",
      "2021-03-28 11:13:55,650 : INFO : EPOCH 5 - PROGRESS: at 24.09% examples, 81940 words/s, in_qsize 23, out_qsize 0\n",
      "2021-03-28 11:13:56,839 : INFO : EPOCH 5 - PROGRESS: at 68.69% examples, 104448 words/s, in_qsize 18, out_qsize 0\n",
      "2021-03-28 11:13:57,176 : INFO : worker thread finished; awaiting finish of 11 more threads\n",
      "2021-03-28 11:13:57,248 : INFO : worker thread finished; awaiting finish of 10 more threads\n",
      "2021-03-28 11:13:57,312 : INFO : worker thread finished; awaiting finish of 9 more threads\n",
      "2021-03-28 11:13:57,321 : INFO : worker thread finished; awaiting finish of 8 more threads\n",
      "2021-03-28 11:13:57,364 : INFO : worker thread finished; awaiting finish of 7 more threads\n",
      "2021-03-28 11:13:57,451 : INFO : worker thread finished; awaiting finish of 6 more threads\n",
      "2021-03-28 11:13:57,536 : INFO : worker thread finished; awaiting finish of 5 more threads\n",
      "2021-03-28 11:13:57,570 : INFO : worker thread finished; awaiting finish of 4 more threads\n",
      "2021-03-28 11:13:57,578 : INFO : worker thread finished; awaiting finish of 3 more threads\n"
     ]
    },
    {
     "name": "stderr",
     "output_type": "stream",
     "text": [
      "2021-03-28 11:13:57,594 : INFO : worker thread finished; awaiting finish of 2 more threads\n",
      "2021-03-28 11:13:57,594 : INFO : worker thread finished; awaiting finish of 1 more threads\n",
      "2021-03-28 11:13:57,626 : INFO : worker thread finished; awaiting finish of 0 more threads\n",
      "2021-03-28 11:13:57,626 : INFO : EPOCH - 5 : training on 478538 raw words (416293 effective words) took 3.3s, 124785 effective words/s\n",
      "2021-03-28 11:13:58,857 : INFO : EPOCH 6 - PROGRESS: at 24.09% examples, 90257 words/s, in_qsize 24, out_qsize 0\n",
      "2021-03-28 11:13:59,959 : INFO : EPOCH 6 - PROGRESS: at 63.83% examples, 106823 words/s, in_qsize 20, out_qsize 0\n",
      "2021-03-28 11:14:00,461 : INFO : worker thread finished; awaiting finish of 11 more threads\n",
      "2021-03-28 11:14:00,509 : INFO : worker thread finished; awaiting finish of 10 more threads\n",
      "2021-03-28 11:14:00,541 : INFO : worker thread finished; awaiting finish of 9 more threads\n",
      "2021-03-28 11:14:00,601 : INFO : worker thread finished; awaiting finish of 8 more threads\n",
      "2021-03-28 11:14:00,699 : INFO : worker thread finished; awaiting finish of 7 more threads\n",
      "2021-03-28 11:14:00,719 : INFO : worker thread finished; awaiting finish of 6 more threads\n",
      "2021-03-28 11:14:00,800 : INFO : worker thread finished; awaiting finish of 5 more threads\n",
      "2021-03-28 11:14:00,842 : INFO : worker thread finished; awaiting finish of 4 more threads\n",
      "2021-03-28 11:14:00,850 : INFO : worker thread finished; awaiting finish of 3 more threads\n",
      "2021-03-28 11:14:00,850 : INFO : worker thread finished; awaiting finish of 2 more threads\n",
      "2021-03-28 11:14:00,874 : INFO : worker thread finished; awaiting finish of 1 more threads\n",
      "2021-03-28 11:14:00,890 : INFO : worker thread finished; awaiting finish of 0 more threads\n",
      "2021-03-28 11:14:00,890 : INFO : EPOCH - 6 : training on 478538 raw words (416506 effective words) took 3.3s, 127663 effective words/s\n",
      "2021-03-28 11:14:02,365 : INFO : EPOCH 7 - PROGRESS: at 24.09% examples, 75909 words/s, in_qsize 23, out_qsize 0\n",
      "2021-03-28 11:14:03,370 : INFO : EPOCH 7 - PROGRESS: at 72.67% examples, 114943 words/s, in_qsize 16, out_qsize 0\n",
      "2021-03-28 11:14:03,963 : INFO : worker thread finished; awaiting finish of 11 more threads\n",
      "2021-03-28 11:14:03,978 : INFO : worker thread finished; awaiting finish of 10 more threads\n",
      "2021-03-28 11:14:04,018 : INFO : worker thread finished; awaiting finish of 9 more threads\n",
      "2021-03-28 11:14:04,042 : INFO : worker thread finished; awaiting finish of 8 more threads\n",
      "2021-03-28 11:14:04,058 : INFO : worker thread finished; awaiting finish of 7 more threads\n",
      "2021-03-28 11:14:04,058 : INFO : worker thread finished; awaiting finish of 6 more threads\n",
      "2021-03-28 11:14:04,086 : INFO : worker thread finished; awaiting finish of 5 more threads\n",
      "2021-03-28 11:14:04,102 : INFO : worker thread finished; awaiting finish of 4 more threads\n",
      "2021-03-28 11:14:04,110 : INFO : worker thread finished; awaiting finish of 3 more threads\n",
      "2021-03-28 11:14:04,118 : INFO : worker thread finished; awaiting finish of 2 more threads\n",
      "2021-03-28 11:14:04,142 : INFO : worker thread finished; awaiting finish of 1 more threads\n",
      "2021-03-28 11:14:04,158 : INFO : worker thread finished; awaiting finish of 0 more threads\n",
      "2021-03-28 11:14:04,158 : INFO : EPOCH - 7 : training on 478538 raw words (416460 effective words) took 3.3s, 127813 effective words/s\n",
      "2021-03-28 11:14:05,594 : INFO : EPOCH 8 - PROGRESS: at 23.24% examples, 77585 words/s, in_qsize 24, out_qsize 0\n",
      "2021-03-28 11:14:06,611 : INFO : EPOCH 8 - PROGRESS: at 70.52% examples, 112585 words/s, in_qsize 17, out_qsize 0\n",
      "2021-03-28 11:14:07,141 : INFO : worker thread finished; awaiting finish of 11 more threads\n",
      "2021-03-28 11:14:07,157 : INFO : worker thread finished; awaiting finish of 10 more threads\n",
      "2021-03-28 11:14:07,157 : INFO : worker thread finished; awaiting finish of 9 more threads\n",
      "2021-03-28 11:14:07,157 : INFO : worker thread finished; awaiting finish of 8 more threads\n",
      "2021-03-28 11:14:07,217 : INFO : worker thread finished; awaiting finish of 7 more threads\n",
      "2021-03-28 11:14:07,225 : INFO : worker thread finished; awaiting finish of 6 more threads\n",
      "2021-03-28 11:14:07,233 : INFO : worker thread finished; awaiting finish of 5 more threads\n",
      "2021-03-28 11:14:07,320 : INFO : worker thread finished; awaiting finish of 4 more threads\n",
      "2021-03-28 11:14:07,362 : INFO : worker thread finished; awaiting finish of 3 more threads\n",
      "2021-03-28 11:14:07,380 : INFO : worker thread finished; awaiting finish of 2 more threads\n",
      "2021-03-28 11:14:07,388 : INFO : worker thread finished; awaiting finish of 1 more threads\n",
      "2021-03-28 11:14:07,444 : INFO : worker thread finished; awaiting finish of 0 more threads\n",
      "2021-03-28 11:14:07,444 : INFO : EPOCH - 8 : training on 478538 raw words (416401 effective words) took 3.3s, 126960 effective words/s\n",
      "2021-03-28 11:14:08,458 : INFO : EPOCH 9 - PROGRESS: at 14.02% examples, 67542 words/s, in_qsize 24, out_qsize 0\n",
      "2021-03-28 11:14:09,624 : INFO : EPOCH 9 - PROGRESS: at 53.87% examples, 98831 words/s, in_qsize 24, out_qsize 0\n",
      "2021-03-28 11:14:10,365 : INFO : worker thread finished; awaiting finish of 11 more threads\n",
      "2021-03-28 11:14:10,406 : INFO : worker thread finished; awaiting finish of 10 more threads\n",
      "2021-03-28 11:14:10,531 : INFO : worker thread finished; awaiting finish of 9 more threads\n",
      "2021-03-28 11:14:10,582 : INFO : worker thread finished; awaiting finish of 8 more threads\n",
      "2021-03-28 11:14:10,614 : INFO : worker thread finished; awaiting finish of 7 more threads\n",
      "2021-03-28 11:14:10,630 : INFO : EPOCH 9 - PROGRESS: at 90.10% examples, 114622 words/s, in_qsize 6, out_qsize 1\n",
      "2021-03-28 11:14:10,630 : INFO : worker thread finished; awaiting finish of 6 more threads\n",
      "2021-03-28 11:14:10,647 : INFO : worker thread finished; awaiting finish of 5 more threads\n",
      "2021-03-28 11:14:10,648 : INFO : worker thread finished; awaiting finish of 4 more threads\n",
      "2021-03-28 11:14:10,706 : INFO : worker thread finished; awaiting finish of 3 more threads\n",
      "2021-03-28 11:14:10,738 : INFO : worker thread finished; awaiting finish of 2 more threads\n",
      "2021-03-28 11:14:10,762 : INFO : worker thread finished; awaiting finish of 1 more threads\n",
      "2021-03-28 11:14:10,762 : INFO : worker thread finished; awaiting finish of 0 more threads\n",
      "2021-03-28 11:14:10,770 : INFO : EPOCH - 9 : training on 478538 raw words (416326 effective words) took 3.3s, 125446 effective words/s\n",
      "2021-03-28 11:14:11,805 : INFO : EPOCH 10 - PROGRESS: at 17.41% examples, 82804 words/s, in_qsize 24, out_qsize 0\n",
      "2021-03-28 11:14:12,957 : INFO : EPOCH 10 - PROGRESS: at 56.38% examples, 102209 words/s, in_qsize 23, out_qsize 0\n",
      "2021-03-28 11:14:13,693 : INFO : worker thread finished; awaiting finish of 11 more threads\n",
      "2021-03-28 11:14:13,812 : INFO : worker thread finished; awaiting finish of 10 more threads\n",
      "2021-03-28 11:14:13,812 : INFO : worker thread finished; awaiting finish of 9 more threads\n",
      "2021-03-28 11:14:13,820 : INFO : worker thread finished; awaiting finish of 8 more threads\n",
      "2021-03-28 11:14:13,876 : INFO : worker thread finished; awaiting finish of 7 more threads\n",
      "2021-03-28 11:14:13,933 : INFO : worker thread finished; awaiting finish of 6 more threads\n",
      "2021-03-28 11:14:13,957 : INFO : worker thread finished; awaiting finish of 5 more threads\n",
      "2021-03-28 11:14:13,957 : INFO : worker thread finished; awaiting finish of 4 more threads\n",
      "2021-03-28 11:14:14,013 : INFO : EPOCH 10 - PROGRESS: at 94.70% examples, 120641 words/s, in_qsize 3, out_qsize 1\n",
      "2021-03-28 11:14:14,013 : INFO : worker thread finished; awaiting finish of 3 more threads\n",
      "2021-03-28 11:14:14,027 : INFO : worker thread finished; awaiting finish of 2 more threads\n",
      "2021-03-28 11:14:14,035 : INFO : worker thread finished; awaiting finish of 1 more threads\n",
      "2021-03-28 11:14:14,067 : INFO : worker thread finished; awaiting finish of 0 more threads\n",
      "2021-03-28 11:14:14,067 : INFO : EPOCH - 10 : training on 478538 raw words (416569 effective words) took 3.3s, 126450 effective words/s\n",
      "2021-03-28 11:14:14,067 : INFO : training on a 4785380 raw words (4163993 effective words) took 32.8s, 126860 effective words/s\n"
     ]
    }
   ],
   "source": [
    "model = Word2Vec(df.Description, size=160, window=30, min_count=2, workers=12, iter=10, sg=1)"
   ]
  },
  {
   "cell_type": "code",
   "execution_count": 23,
   "metadata": {},
   "outputs": [
    {
     "name": "stderr",
     "output_type": "stream",
     "text": [
      "2021-03-28 11:15:20,350 : WARNING : cannot compute similarity with no input []\n",
      "2021-03-28 11:15:20,571 : WARNING : cannot compute similarity with no input []\n",
      "2021-03-28 11:15:21,091 : WARNING : cannot compute similarity with no input []\n"
     ]
    }
   ],
   "source": [
    "X = word_averaging_list(model.wv, df.Description)"
   ]
  },
  {
   "cell_type": "markdown",
   "metadata": {},
   "source": [
    "#### Обучение ближайших соседей"
   ]
  },
  {
   "cell_type": "code",
   "execution_count": 24,
   "metadata": {
    "tags": []
   },
   "outputs": [
    {
     "data": {
      "text/plain": [
       "NearestNeighbors(n_jobs=12)"
      ]
     },
     "execution_count": 24,
     "metadata": {},
     "output_type": "execute_result"
    }
   ],
   "source": [
    "from sklearn.neighbors import NearestNeighbors\n",
    "nn = NearestNeighbors(n_jobs=12)\n",
    "nn.fit(X)"
   ]
  },
  {
   "cell_type": "markdown",
   "metadata": {},
   "source": [
    "## Предсказания для мурманских мероприятий"
   ]
  },
  {
   "cell_type": "code",
   "execution_count": 25,
   "metadata": {},
   "outputs": [],
   "source": [
    "df1 = pd.read_csv('data.csv')"
   ]
  },
  {
   "cell_type": "code",
   "execution_count": 26,
   "metadata": {},
   "outputs": [],
   "source": [
    "df1.description = df1.description.apply(html2text.html2text)\n",
    "df1.description = df1.description.str.lower()\n",
    "df1.description = df1.description.str.replace('[\\W_]', ' ', regex=True)\n",
    "df1.description = df1.description.apply(lambda x: [i for i in x.split() if len(i) > 1])"
   ]
  },
  {
   "cell_type": "code",
   "execution_count": 27,
   "metadata": {},
   "outputs": [],
   "source": [
    "X_wv = word_averaging_list(model.wv, df1.description)"
   ]
  },
  {
   "cell_type": "markdown",
   "metadata": {},
   "source": [
    "### Первый пример"
   ]
  },
  {
   "cell_type": "markdown",
   "metadata": {},
   "source": [
    "#### Мероприятие"
   ]
  },
  {
   "cell_type": "code",
   "execution_count": 28,
   "metadata": {},
   "outputs": [
    {
     "name": "stdout",
     "output_type": "stream",
     "text": [
      "['экспозиции', 'выставки', 'будут', 'представлены', 'пейзажи', 'города', 'исполнении', 'мурманских', 'художников', 'из', 'частной', 'коллекции', 'алексея', 'макарова', 'алексей', 'макаров', '1997', 'по', 'настоящее', 'время', 'ведущий', 'актер', 'драматического', 'театра', 'северного', 'флота', 'на', 'выставке', 'зрители', 'увидят', 'портреты', 'мурманска', 'исполнении', 'разных', 'художников', 'виктории', 'зубицкой', 'татьяны', 'ковалёвой', 'николая', 'ковалёва', 'николая', 'морозова', 'виталия', 'бубенцова', 'анатолия', 'шаковца', 'анастасии', 'берёзы', 'никиты', 'ковалёва', 'других', 'известных', 'художников', 'мурманска', 'мурманской', 'области', 'источник', 'культура', 'рф', 'https', 'culture', 'ru']\n"
     ]
    }
   ],
   "source": [
    "n_sample = 0\n",
    "print(df1.loc[n_sample].description)"
   ]
  },
  {
   "cell_type": "markdown",
   "metadata": {},
   "source": [
    "#### Похожие на данное мероприятие"
   ]
  },
  {
   "cell_type": "code",
   "execution_count": 37,
   "metadata": {},
   "outputs": [
    {
     "name": "stdout",
     "output_type": "stream",
     "text": [
      "['знаменательному', 'празднику', 'победы', 'великой', 'отечественной', 'войне', 'организаторы', 'московского', 'международного', 'фестиваля', 'круг', 'света', 'приготовили', 'особое', 'шоу', 'образы', 'военных', 'лет', 'оживут', 'на', 'фасадах', 'центрального', 'академического', 'театра', 'российской', 'армии', 'белорусского', 'вокзала', 'представления', 'на', 'патриотическую', 'тему', 'можно', 'будет', 'увидеть', 'каждый', 'вечер', 'по', '10', 'мая', 'бесплатно', 'для', 'их', 'создания', 'использовались', 'редкие', 'кадры', 'из', 'старинной', 'кинохроники', 'новейшие', 'технологии', 'все', 'это', 'должно', 'произвести', 'мощный', 'эмоциональный', 'эффект', 'подарить', 'зрителям', 'большое', 'визуальное', 'приключение', 'театр', 'российской', 'армии', '10', 'мая', 'на', 'фасаде', 'здания', 'театра', 'http', 'kudago', 'com', 'msk', 'place', 'teatr', 'rossijskoj', 'armii', '21', '30', 'до', '23', '00', 'течение', 'трех', 'дней', 'будут', 'транслироваться', 'два', 'световых', 'представления', 'театр', 'годы', 'войны', 'история', 'солдата', 'открытый', 'начале', 'осени', '1940', 'го', 'театр', 'российской', 'армии', 'застал', 'совсем', 'небольшой', 'отрезок', 'мирного', 'времени', 'уже', 'июне', '1941', 'года', 'его', 'представлений', 'буквально', 'отправлялись', 'на', 'фронт', 'чтобы', 'защитить', 'архитектурное', 'сооружение', 'от', 'бомбардировщиков', 'его', 'спрятали', 'под', 'специальной', 'маскировочной', 'тканью', 'при', 'этом', 'театральная', 'труппа']\n",
      "_______\n",
      "['думаете', 'что', 'комиксы', 'это', 'лишь', 'истории', 'супергероях', 'на', 'самом', 'деле', 'этот', 'жанр', 'дает', 'намного', 'больше', 'свободы', 'для', 'творчества', 'убедитесь', 'этом', 'посетив', 'большой', 'фестиваль', 'комиксов', 'который', 'состоится', 'рамках', 'акции', 'библионочь', 'знакомство', 'миром', 'комиксов', 'начнется', 'открытия', 'выставки', 'рисованных', 'историй', 'бумфест', 'для', 'поклонников', 'жанра', 'это', 'событие', 'успело', 'обрести', 'культовый', 'статус', 'ежегодно', 'на', 'его', 'площадках', 'выставляются', 'французские', 'немецкие', 'шведские', 'канадские', 'художники', 'также', 'выходцы', 'из', 'других', 'стран', 'этот', 'раз', 'посетители', 'не', 'только', 'увидят', 'работы', 'современных', 'авторов', 'но', 'узнают', 'больше', 'об', 'истории', 'комиксов', 'перформанс', 'бюро', 'графического', 'перевода', 'участием', 'четырех', 'художников', 'покажет', 'процесс', 'создания', 'комиксов', 'реальном', 'времени', 'прямо', 'вас', 'на', 'глазах', 'фразы', 'трансформируются', 'графические', 'изображения', 'работа', 'художников', 'будет', 'спроецирована', 'на', 'большой', 'экран', 'также', 'вас', 'ждут', 'встречи', 'авторами', 'графических', 'романов', 'так', 'анна', 'камышевская', 'представит', 'свое', 'произведение', 'мой', 'секс', 'которое', 'легло', 'основу', 'спектакля', 'также', 'выступит', 'лекцией', 'другой', 'приглашенный', 'гость', 'хорошо', 'известный', 'представитель', 'жанра', 'аскольд', 'акишин', 'его', 'руке', 'принадлежат']\n",
      "_______\n",
      "['экскурсия', 'по', 'стамбулу', 'от', 'турецкого', 'писателя', 'цирковые', 'шоу', 'https', 'kudago', 'com', 'spb', 'entertainment', 'под', 'саундтрек', 'исландских', 'пост', 'рокеров', 'хроники', 'американской', 'рок', 'певицы', 'без', 'сантиментов', 'со', 'всем', 'этим', 'вы', 'познакомитесь', 'начале', 'июня', 'кинотеатре', 'аврора', 'маленькая', 'девочка', 'грустит', 'на', 'фоне', 'песен', 'концертных', 'записей', 'знаменитой', 'дженис', 'джоплин', 'расскажет', 'как', 'исполнительнице', 'помог', 'опыт', 'изгоя', 'почему', 'любовь', 'миру', 'обернулась', 'для', 'неё', 'проблемой', 'образ', 'дополнят', 'откровения', 'друзей', 'родственников', 'письма', 'которые', 'певица', 'успела', 'написать', 'за', 'свою', 'недолгую', 'жизнь', 'ещё', 'одним', 'знаменитым', 'героем', 'показов', 'станет', 'орхан', 'памук', 'хотя', 'самого', 'писателя', 'на', 'кадрах', 'придётся', 'ещё', 'поискать', 'картины', 'запечатлённые', 'на', 'киноплёнку', 'буквально', 'проведут', 'вас', 'по', 'страницам', 'его', 'произведений', 'это', 'будет', 'несомненно', 'ярким', 'путешествием', 'добавит', 'красочности', 'фильм', 'всем', 'зрелищам', 'зрелище', '75', 'минутная', 'хроника', 'цирковых', 'выступлений', 'на', 'стыке', 'xix', 'xx', 'веков', 'на', 'грани', 'веселья', 'тревоги', 'от', 'автора', 'ленты', 'лошадях', 'людях', 'трансляция', 'фильмов', 'на', 'языке', 'оригинала', 'русскими', 'субтитрами']\n",
      "_______\n",
      "['сегодня', 'огромной', 'популярностью', 'пользуются', 'виртуальные', 'кинотеатры', 'имеющие', 'ряд', 'неоспоримых', 'преимуществ', 'перед', 'обычными', 'большие', 'фильмотеки', 'высокое', 'качество', 'картинки', 'разнообразие', 'направлений', 'отсутствие', 'навязчивой', 'рекламы', 'финансовых', 'затрат', 'возможность', 'прочитать', 'рецензии', 'комментарии', 'много', 'других', 'полюсов', 'поклонники', 'американских', 'многосерийных', 'фильмов', 'могут', 'смотреть', 'сериал', 'карточный', 'домик', 'онлайн', 'http', 'www', 'amediateka', 'ru', 'serial', 'kartochnyi', 'domik', '1bbdfa28', 'f23f', '4b16', '8798', '9ba5e69a3bb1', 'высоком', 'качестве', 'абсолютно', 'бесплатно', 'можно', 'интернет', 'кинотеатре', 'амедиатека', 'любое', 'удобное', 'время', 'его', 'фильмотеке', 'собраны', 'все', 'самые', 'популярные', 'фильмы', 'сериалы', 'которые', 'можно', 'найти', 'сети', 'один', 'из', 'объективных', 'показателей', 'успеха', 'любого', 'нового', 'фильма', 'является', 'кассовый', 'сбор', 'который', 'зависит', 'не', 'только', 'от', 'качества', 'ленты', 'актерского', 'мастерства', 'но', 'от', 'масштаба', 'рекламной', 'кампании', 'многих', 'других', 'факторов', 'одним', 'из', 'важных', 'моментов', 'является', 'участие', 'кинофестивалях', 'которые', 'также', 'служат', 'для', 'оценки', 'фильмов', 'каждого', 'фестиваля', 'со', 'временем', 'складывается', 'своя', 'особая', 'репутация', 'ежегодно', 'петропавловки', 'собираются', 'около', '20', '000', 'человек', 'чтобы', 'стать', 'участником', 'феноменального', 'действа', 'этом', 'году']\n",
      "_______\n",
      "['этом', 'году', 'столичные', 'власти', 'вновь', 'порадуют', 'горожан', 'большим', 'весенним', 'праздником', 'по', '11', 'мая', 'городе', 'будут', 'работать', '16', 'площадок', 'фестиваля', 'московская', 'весна', 'пять', 'центральных', 'одиннадцать', 'окружных', 'этом', 'году', 'главные', 'фестивальные', 'события', 'посвящены', '70', 'летию', 'великой', 'победы', 'улицы', 'города', 'торговые', 'шале', 'будут', 'оформлены', 'едином', 'праздничном', 'стиле', 'тематическое', 'оформление', 'необычные', 'экспонаты', 'стиле', 'ретро', 'позволят', 'москвичам', 'полной', 'мере', 'ощутить', 'дыхание', 'прошлого', 'каждый', 'день', 'удивит', 'горожан', 'новыми', 'культурно', 'просветительскими', 'проектами', 'так', 'мая', 'новопушкинскинском', 'сквере', 'откроется', 'выставка', 'рисунков', 'воспитанников', 'детских', 'домов', 'посвященных', 'великой', 'отечественной', 'войне', 'мероприятие', 'посетят', 'звезды', 'кино', 'телевидения', 'также', 'этот', 'день', 'на', 'сокольнической', 'площади', 'состоится', 'концерт', 'александра', 'скляра', 'роли', 'ведущего', 'выступит', 'родион', 'газманов', 'он', 'расскажет', 'гостям', 'фестиваля', 'культурной', 'жизни', 'военное', 'время', 'ведь', 'даже', 'самые', 'тяжелые', 'годы', 'проходили', 'театральные', 'премьеры', 'концерты', 'снималось', 'кино', 'мая', 'на', 'стадионе', 'останкинском', 'парке', 'пройдет', 'реконструкция', 'исторического', 'футбольного', 'матча', 'на', 'руинах', 'сталинграда', 'http', 'kudago', 'com', 'msk', 'event', 'rekonstrukciya', 'futbolnogo', 'matcha']\n"
     ]
    }
   ],
   "source": [
    "dist, nums = nn.kneighbors(X_wv[None, n_sample], 5)\n",
    "print(*df.iloc[nums[0]].Description.str[:139], sep='\\n_______\\n')"
   ]
  },
  {
   "cell_type": "markdown",
   "metadata": {},
   "source": [
    "### Второй пример"
   ]
  },
  {
   "cell_type": "markdown",
   "metadata": {},
   "source": [
    "#### Мероприятие"
   ]
  },
  {
   "cell_type": "code",
   "execution_count": 31,
   "metadata": {},
   "outputs": [
    {
     "name": "stdout",
     "output_type": "stream",
     "text": [
      "['ежегодно', 'середине', 'лета', 'на', 'берегу', 'океана', 'принимает', 'гостей', 'арктический', 'фестиваль', 'териберка', 'известные', 'российские', 'музыканты', 'живые', 'выступления', 'незабываемая', 'атмосфера', 'праздника', 'притягивают', 'сюда', 'тысячи', 'туристов', 'фишка', 'фестиваля', 'открытые', 'мастер', 'классы', 'именитых', 'шеф', 'поваров', 'лучшие', 'из', 'лучших', 'здесь', 'соревнуются', 'мастерстве', 'угощают', 'гостей', 'блюдами', 'арктической', 'кухни', 'морские', 'деликатесы', 'свежайшие', 'морепродукты', 'северные', 'ягоды', 'необычное', 'мясо', 'ресторанной', 'подачей', 'настоящий', 'рай', 'для', 'гурманов', '2019', 'году', 'фестиваль', 'посетили', 'около', 'пяти', 'тысяч', 'человек']\n"
     ]
    }
   ],
   "source": [
    "n_sample = 15\n",
    "print(df1.loc[n_sample].description[:429])"
   ]
  },
  {
   "cell_type": "markdown",
   "metadata": {},
   "source": [
    "#### Похожие на данное мероприятие"
   ]
  },
  {
   "cell_type": "code",
   "execution_count": 32,
   "metadata": {},
   "outputs": [
    {
     "name": "stdout",
     "output_type": "stream",
     "text": [
      "['фестиваль', 'красок', 'холи', 'проводится', 'киеве', 'уже', 'четвёртый', 'раз', 'собирает', 'год', 'от', 'года', 'всё', 'больше', 'участников', 'расширяется', 'программа', 'праздника', 'теперь', 'холи', 'это', 'не', 'просто', 'яркие', 'краски', 'фестиваль', 'https', 'kudago', 'com', 'kev', 'festivals', 'превратился', 'настоящий', 'гимн', 'дружбе', 'лету', 'этом', 'году', 'пришедшие', 'на', 'ледовый', 'стадион', 'поучаствуют', 'большой', 'битве', 'красками', 'зарядятся', 'позитивными', 'эмоциями', 'во', 'время', 'увлекательных', 'флешмобов', 'зажгут', 'танцпол', 'под', 'ритмы', 'от', 'самых', 'классных', 'диджеев', 'не', 'забывайте', 'про', 'традиционные', 'обнимашки', 'free', 'hugs', 'программе', 'четвёртого', 'фестиваля', 'красок', 'холи', 'также', 'много', 'полезных', 'развлечений', 'на', 'стадионе', 'откроется', 'ярмарка', 'ремесленников', 'пройдут', 'мастер', 'классы', 'от', 'профи', 'конкурсы', 'предложат', 'свои', 'слуги', 'мастера', 'боди', 'арта', 'мехенди', 'для', 'самых', 'маленьких', 'гостей', 'фестиваля', 'будут', 'организованы', 'детские', 'площадки']\n",
      "_______\n",
      "['течение', 'целых', 'пяти', 'дней', 'гостей', 'грандиозного', 'мероприятия', 'ждёт', 'невероятно', 'насыщенная', 'увлекательная', 'программа', 'только', 'самые', 'современные', 'концептуальные', 'оригинальные', 'проекты', 'предстанут', 'перед', 'зрителями', 'удивляя', 'нестандартными', 'подходами', 'мастерством', 'исполнителей', 'программу', 'фестиваля', 'войдут', 'мастер', 'классы', 'эффектные', 'соревнования', 'по', 'брейк', 'дансу', 'паркуру', 'созданию', 'граффити', 'за', 'главный', 'приз', 'который', 'пока', 'держится', 'секрете', 'сможет', 'побороться', 'каждый', 'из', 'гостей', 'события', 'каждый', 'день', 'гостей', 'будет', 'встречать', 'живая', 'электронная', 'музыка', 'от', 'ведущих', 'диджеев', 'на', 'многочисленных', 'dance', 'зонах', 'зажигать', 'на', 'сценах', 'будут', 'приглашённые', 'европейские', 'звёзды', 'фестиваль', 'https', 'kudago', 'com', 'sochi', 'festivals', 'который', 'пройдёт', 'на', 'территории', 'курорта', 'роза', 'хутор', 'соберёт', 'более', 'пяти', 'тысяч', 'участников', 'для', 'любителей', 'азартного', 'активного', 'отдыха', 'будут', 'организованы', 'увлекательные', 'квесты', 'для', 'поклонников', 'пенных', 'вечеринок', 'подготовлено', 'зажигательное', 'party', 'берлоги', 'модные', 'дефиле', 'body', 'art', 'ярмарка', 'дизайнерских', 'вещей', 'многое', 'другое', 'ожидает', 'гостей']\n",
      "_______\n",
      "['интерес', 'крафтовой', 'культуре', 'держится', 'на', 'высокой', 'отметке', 'последние', 'несколько', 'лет', 'прошлогодний', 'craft', 'depot', 'fest', 'тому', 'подтверждение', 'его', 'посетили', 'тысяч', 'человек', 'этом', 'году', 'праздник', 'повторится', 'по', 'словам', 'организаторов', 'привлечёт', 'более', '10', 'тысяч', 'человек', 'хорошая', 'еда', 'разнообразие', 'напитков', 'музыка', 'задающая', 'правильное', 'настроение', 'вот', 'три', 'секрета', 'успешной', 'крафтовой', 'выставки', 'центральной', 'зоне', 'мероприятия', 'продукцию', 'представят', 'пивоварни', 'из', 'бельгии', 'германии', 'россии', 'сша', 'других', 'стран', 'открытия', 'ждут', 'скорее', 'всего', 'даже', 'бывалых', 'знатоков', 'крафта', 'будет', 'представлено', 'более', '260', 'сортов', 'ещё', 'сидр', 'медовуха', 'пуаре', 'грушевый', 'сидр', 'то', 'что', 'понравится', 'можно', 'будет', 'купить', 'зоне', 'bottle', 'shop', 'ботл', 'шоп', 'для', 'домашнего', 'использования', 'настроение', 'событию', 'зададут', 'концерты', 'от', 'самых', 'разных', 'музыкальных', 'групп', 'бодрые', 'мелодии', 'оркестра', 'волынщиков', 'city', 'pipes', 'позитивные', 'непредсказуемые', 'композиции', 'от', 'безудержных', 'ребят', 'из', 'коллектива', 'good', 'times', 'альтернатива', 'исполнении', 'бэнда', 'remark', 'выступление', 'модной', 'столичной', 'команды', 'easy', 'современное', 'стильное', 'звучание', 'needshes', 'это', 'лишь', 'часть', 'программы', 'на', 'музыке', 'развлечения', 'не', 'закончатся', 'гости', 'смогут', 'принять', 'участие', 'тематическом', 'забеге', 'увидеть', 'финал', 'конкурса', 'лучший', 'крафтовый', 'бар', 'москвы', 'петербурга', 'первыми', 'попробовать', 'новый', 'сорт', 'сваренный', 'специально', 'мероприятию', 'чтобы', 'подкрепиться', 'идите', 'сторону', 'фудтраков', 'блюдами', 'американской', 'мексиканской', 'бельгийской', 'кухни']\n",
      "_______\n",
      "['течение', 'месяца', 'измайловском', 'кремле', 'вы', 'сможете', 'попробовать', 'аппетитные', 'блюда', 'объединённые', 'тематические', 'разделы', 'домашняя', 'русская', 'кухня', 'не', 'нуждается', 'преставлении', 'это', 'сытные', 'вкусные', 'блюда', 'которые', 'мы', 'знаем', 'любим', 'детства', 'на', 'площадке', 'высокой', 'гастрономии', 'представят', 'традиционные', 'блюда', 'россии', 'ресторанном', 'формате', 'от', 'известных', 'шеф', 'поваров', 'отделе', 'исторической', 'кулинарии', 'вас', 'угостят', 'лакомствами', 'которые', 'минувшие', 'века', 'были', 'популярны', 'россии', 'но', 'наши', 'дни', 'незаслуженно', 'забыты', 'литературная', 'кухня', 'подготовит', 'блюда', 'описания', 'которых', 'известны', 'по', 'произведениям', 'русских', 'классиков', 'площадка', 'кухня', 'регионов', 'народов', 'россии', 'познакомит', 'гостей', 'едой', 'приготовленной', 'по', 'сибирским', 'татарским', 'бурятским', 'поморским', 'другим', 'народным', 'рецептам', 'фестиваль', 'откроет', 'конкурс', 'праздник', 'русской', 'ухи', '15', 'июня', '11', '00', 'до', '16', '00', 'котором', 'примут', 'участие', 'не', 'только', 'профессиональные', 'повара', 'но', 'звёзды', 'театра', 'кино', 'фестиваль', 'аргентины', 'который', 'пройдёт', '16', 'июня', 'порадует', 'гурманов', 'не', 'только', 'острыми', 'пряными', 'яствами', 'латиноамериканской', 'кухни', 'но', 'танцами', 'музыкой', 'шумной', 'ярмаркой', '21', 'по', '23', 'июня', 'измайловском', 'кремле', 'будет', 'проходить', 'масштабный', 'delhi', 'bazar', 'праздник', 'индийской', 'культуры', 'гостей', 'ждут', 'не', 'только', 'аппетитные', 'угощения', 'но', 'кинопоказы', 'мастер', 'классы', 'концерты', 'ярмарка', 'специй', 'сувениров', 'из', 'индии', 'июля', 'честь', 'дня', 'святых', 'петра', 'февронии', 'вы', 'сможете', 'посетить', 'дегустации', 'блюд', 'православной', 'монастырской', 'кухни', 'для', 'любителей', 'международных', 'кулинарных', 'традиций', 'экзотики', 'на', 'площадке', 'новом', 'вернисаже', 'будет', 'работать', 'фудкорт', 'едой', 'из', 'разных', 'стран', 'мира', 'американскими', 'бургерами', 'хот', 'догами', 'японскими', 'роллами', 'суши', 'китайской', 'лапшой', 'дальневосточными', 'средиземноморскими', 'блюдами', 'морепродуктами', 'кавказским', 'шашлыком', 'норвежской', 'медовухой', 'ирландским', 'элем', 'многим', 'другим', 'на', 'фестивальных', 'площадках', 'разместятся', 'комфортабельные', 'веранды', 'на', 'которых', 'вы', 'сможете', 'подкрепиться', 'на', 'свежем', 'воздухе', 'покачаться', 'гамаке', 'устроить', 'фотосессию', 'чучелом', 'медведя', 'или', 'запечатлеть', 'себя', 'на', 'фоне', 'стен', 'граффити', 'любителей', 'творчества', 'приглашают', 'на', 'кулинарные', 'гончарные', 'стеклодувные', 'другие', 'ремесленные', 'мастер']\n",
      "_______\n",
      "['первый', 'августовский', 'уик', 'энд', 'мега', 'парк', 'вновь', 'станет', 'точкой', 'сборки', 'топовых', 'музыкантов', 'производителей', 'лучшей', 'уличной', 'еды', 'северной', 'столице', 'за', 'три', 'года', 'лаваш', 'вырос', 'из', 'скромной', 'клубной', 'вечеринки', 'мощный', 'двухдневный', 'опен', 'эйр', 'насыщенной', 'культурной', 'программой', 'здесь', 'можно', 'будет', 'отведать', 'шаверму', 'во', 'множестве', 'её', 'вариаций', 'по', 'форме', 'содержанию', 'также', 'тако', 'буррито', 'мраморную', 'говядину', 'блюда', 'паназиатской', 'греческой', 'кухонь', 'многие', 'другие', 'гастрономические', 'изыски', 'доступные', 'на', 'двух', 'десятках', 'точек', 'модного', 'стритфуда', 'для', 'музыкальных', 'гурманов', 'выступят', 'вася', 'васин', 'из', 'группы', 'кирпичи', 'marksheider', 'kunst', 'электрофорез', 'легенда', 'питерского', 'андеграунда', '70', 'валерий', 'петров', 'со', 'своим', 'джаз', 'бэндом', 'целая', 'плеяда', 'молодых', 'перспективных', 'проектов', 'числе', 'которых', 'последняя', 'вечеринка', 'ммарло', 'тепло', 'многие', 'другие', 'голодные', 'до', 'знаний', 'посетители', 'смогут', 'послушать', 'познавательные', 'лекции', 'поучаствовать', 'дискуссиях', 'на', 'различные', 'темы', 'освоить', 'новые', 'навыки', 'на', 'крафтовых', 'мастер', 'классах', 'подробнее', 'фестивале', 'узнайте', 'вконтакте', 'https', 'vk', 'com', 'lavashfest']\n"
     ]
    }
   ],
   "source": [
    "dist, nums = nn.kneighbors(X_wv[None, n_sample], 5)\n",
    "print(*df.iloc[nums[0]].Description.str[:250], sep='\\n_______\\n')"
   ]
  },
  {
   "cell_type": "markdown",
   "metadata": {},
   "source": [
    "### Третий пример"
   ]
  },
  {
   "cell_type": "markdown",
   "metadata": {},
   "source": [
    "#### Мероприятие"
   ]
  },
  {
   "cell_type": "code",
   "execution_count": 33,
   "metadata": {},
   "outputs": [
    {
     "name": "stdout",
     "output_type": "stream",
     "text": [
      "['одна', 'из', 'самых', 'героических', 'романтических', 'морских', 'профессий', 'моряк', 'подводник', 'об', 'отличающей', 'их', 'отваге', 'полной', 'самоотдаче', 'делу', 'железной', 'дисциплине', 'морском', 'товариществе', 'сложено', 'немало', 'песен', 'которыми', 'библиотекари', 'предлагают', 'познакомиться', 'ходе', 'встречи', 'прозвучит', 'стихотворение', 'фисановича', 'строевая', 'подводная', 'ставшее', 'неофициальной', 'песней', 'гимном', 'подводников', 'годы', 'великой', 'отечественной', 'войны', 'присутствующим', 'будет', 'рассказано', 'об', 'истории', 'создания', 'известной', 'музыкальной', 'композиции', 'усталая', 'подлодка', 'пахмутовой', 'добронравова', 'источник', 'культура', 'рф', 'https', 'culture', 'ru']\n"
     ]
    }
   ],
   "source": [
    "n_sample = 25\n",
    "print(df1.loc[n_sample].description[:402])"
   ]
  },
  {
   "cell_type": "markdown",
   "metadata": {},
   "source": [
    "#### Похожие на данное мероприятие"
   ]
  },
  {
   "cell_type": "code",
   "execution_count": 34,
   "metadata": {},
   "outputs": [
    {
     "name": "stdout",
     "output_type": "stream",
     "text": [
      "['знаменательному', 'празднику', 'победы', 'великой', 'отечественной', 'войне', 'организаторы', 'московского', 'международного', 'фестиваля', 'круг', 'света', 'приготовили', 'особое', 'шоу', 'образы', 'военных', 'лет', 'оживут', 'на', 'фасадах', 'центрального', 'академического', 'театра', 'российской', 'армии', 'белорусского', 'вокзала', 'представления', 'на', 'патриотическую', 'тему', 'можно', 'будет', 'увидеть', 'каждый', 'вечер', 'по', '10', 'мая', 'бесплатно', 'для', 'их', 'создания', 'использовались', 'редкие', 'кадры', 'из', 'старинной', 'кинохроники', 'новейшие', 'технологии', 'все', 'это', 'должно', 'произвести', 'мощный', 'эмоциональный', 'эффект', 'подарить', 'зрителям', 'большое', 'визуальное', 'приключение', 'театр', 'российской', 'армии', '10', 'мая', 'на', 'фасаде', 'здания', 'театра', 'http', 'kudago', 'com', 'msk', 'place', 'teatr', 'rossijskoj', 'armii', '21', '30', 'до', '23', '00', 'течение', 'трех', 'дней', 'будут', 'транслироваться', 'два', 'световых', 'представления', 'театр', 'годы', 'войны', 'история', 'солдата', 'открытый', 'начале', 'осени', '1940', 'го', 'театр', 'российской', 'армии', 'застал', 'совсем', 'небольшой', 'отрезок', 'мирного', 'времени', 'уже', 'июне', '1941', 'года', 'его', 'представлений', 'буквально', 'отправлялись', 'на', 'фронт', 'чтобы', 'защитить', 'архитектурное', 'сооружение', 'от', 'бомбардировщиков', 'его', 'спрятали', 'под', 'специальной', 'маскировочной', 'тканью', 'при', 'этом', 'театральная', 'труппа', 'продолжала', 'свою', 'деятельность', 'даже', 'во', 'время', 'войны', 'фронтовая', 'бригада', 'артистов', 'поднимала', 'боевой', 'дух', 'солдат', 'вселяла', 'их', 'сердца', 'надежду', 'помогая', 'не', 'забыть', 'простых', 'человеческих', 'радостях', 'вместе', 'военными', 'актеры', 'дошли', 'до', 'самой', 'германии', 'составе', 'таких', 'концертных', 'бригад', 'довелось', 'побывать', 'народному', 'артисту', 'ссср', 'владимиру', 'зельдину', 'он', 'внес', 'свой', 'вклад', 'подготовку', 'представления', 'второй', 'световой', 'спектакль', 'под', 'названием', 'путь', 'солдата', 'покажет', 'зрителям', 'долгую', 'дорогу', 'от', 'изматывающих', 'боев', 'продолжительных', 'походов', 'до', 'современного', 'парада', 'победы', 'только', 'так', 'можно', 'осознать', 'всю', 'значимость', 'этого', 'события', 'после', 'просмотра', 'этого', 'шоу', 'вы', 'уже', 'не', 'будете', 'видеть', 'ветеранах', 'бабушек', 'дедушек', 'за', 'морщинами', 'сединой', 'вы', 'разглядите', 'юных', 'парней', 'девушек', 'которые', 'столкнулись', 'суровым', 'испытанием', 'выстояли', 'работе', 'над', 'этим', 'трогательным', 'представлением', 'организаторам', 'помог', 'народный', 'артист', 'россии']\n",
      "_______\n",
      "['думаете', 'что', 'комиксы', 'это', 'лишь', 'истории', 'супергероях', 'на', 'самом', 'деле', 'этот', 'жанр', 'дает', 'намного', 'больше', 'свободы', 'для', 'творчества', 'убедитесь', 'этом', 'посетив', 'большой', 'фестиваль', 'комиксов', 'который', 'состоится', 'рамках', 'акции', 'библионочь', 'знакомство', 'миром', 'комиксов', 'начнется', 'открытия', 'выставки', 'рисованных', 'историй', 'бумфест', 'для', 'поклонников', 'жанра', 'это', 'событие', 'успело', 'обрести', 'культовый', 'статус', 'ежегодно', 'на', 'его', 'площадках', 'выставляются', 'французские', 'немецкие', 'шведские', 'канадские', 'художники', 'также', 'выходцы', 'из', 'других', 'стран', 'этот', 'раз', 'посетители', 'не', 'только', 'увидят', 'работы', 'современных', 'авторов', 'но', 'узнают', 'больше', 'об', 'истории', 'комиксов', 'перформанс', 'бюро', 'графического', 'перевода', 'участием', 'четырех', 'художников', 'покажет', 'процесс', 'создания', 'комиксов', 'реальном', 'времени', 'прямо', 'вас', 'на', 'глазах', 'фразы', 'трансформируются', 'графические', 'изображения', 'работа', 'художников', 'будет', 'спроецирована', 'на', 'большой', 'экран', 'также', 'вас', 'ждут', 'встречи', 'авторами', 'графических', 'романов', 'так', 'анна', 'камышевская', 'представит', 'свое', 'произведение', 'мой', 'секс', 'которое', 'легло', 'основу', 'спектакля', 'также', 'выступит', 'лекцией', 'другой', 'приглашенный', 'гость', 'хорошо', 'известный', 'представитель', 'жанра', 'аскольд', 'акишин', 'его', 'руке', 'принадлежат', 'такие', 'работы', 'как', 'моя', 'комикс', 'биография', 'лес', 'пионерская', 'правда', 'он', 'проведет', 'беседу', 'со', 'своими', 'поклонниками', 'расскажет', 'как', 'хобби', 'стало', 'делом', 'жизни', 'детям', 'тоже', 'будет', 'чем', 'заняться', 'их', 'ждет', 'мастер', 'класс', 'по', 'рисованию', 'итогом', 'которого', 'станет', 'собственный', 'комикс', 'занятие', 'проведут', 'авторы', 'серии', 'рисованных', 'историй', 'про', 'кота', 'по', 'кличке', 'кешка', 'наталья', 'андрей', 'снегиревы', 'рекомендуемый', 'возраст', 'участников', 'мастер', 'класса', '12', 'лет', 'фестиваль', 'завершится', 'показом', 'анимационных', 'фильмов', 'автора', 'комиксовых', 'романов', 'из', 'сша', 'винзора', 'маккея', 'больше', 'информации', 'ищите', 'на', 'сайтах', 'флакона', 'http', 'www', 'flacon', 'ru', 'библионочи', 'http', 'biblionight', 'info']\n",
      "_______\n",
      "['экскурсия', 'по', 'стамбулу', 'от', 'турецкого', 'писателя', 'цирковые', 'шоу', 'https', 'kudago', 'com', 'spb', 'entertainment', 'под', 'саундтрек', 'исландских', 'пост', 'рокеров', 'хроники', 'американской', 'рок', 'певицы', 'без', 'сантиментов', 'со', 'всем', 'этим', 'вы', 'познакомитесь', 'начале', 'июня', 'кинотеатре', 'аврора', 'маленькая', 'девочка', 'грустит', 'на', 'фоне', 'песен', 'концертных', 'записей', 'знаменитой', 'дженис', 'джоплин', 'расскажет', 'как', 'исполнительнице', 'помог', 'опыт', 'изгоя', 'почему', 'любовь', 'миру', 'обернулась', 'для', 'неё', 'проблемой', 'образ', 'дополнят', 'откровения', 'друзей', 'родственников', 'письма', 'которые', 'певица', 'успела', 'написать', 'за', 'свою', 'недолгую', 'жизнь', 'ещё', 'одним', 'знаменитым', 'героем', 'показов', 'станет', 'орхан', 'памук', 'хотя', 'самого', 'писателя', 'на', 'кадрах', 'придётся', 'ещё', 'поискать', 'картины', 'запечатлённые', 'на', 'киноплёнку', 'буквально', 'проведут', 'вас', 'по', 'страницам', 'его', 'произведений', 'это', 'будет', 'несомненно', 'ярким', 'путешествием', 'добавит', 'красочности', 'фильм', 'всем', 'зрелищам', 'зрелище', '75', 'минутная', 'хроника', 'цирковых', 'выступлений', 'на', 'стыке', 'xix', 'xx', 'веков', 'на', 'грани', 'веселья', 'тревоги', 'от', 'автора', 'ленты', 'лошадях', 'людях', 'трансляция', 'фильмов', 'на', 'языке', 'оригинала', 'русскими', 'субтитрами']\n",
      "_______\n",
      "['сегодня', 'огромной', 'популярностью', 'пользуются', 'виртуальные', 'кинотеатры', 'имеющие', 'ряд', 'неоспоримых', 'преимуществ', 'перед', 'обычными', 'большие', 'фильмотеки', 'высокое', 'качество', 'картинки', 'разнообразие', 'направлений', 'отсутствие', 'навязчивой', 'рекламы', 'финансовых', 'затрат', 'возможность', 'прочитать', 'рецензии', 'комментарии', 'много', 'других', 'полюсов', 'поклонники', 'американских', 'многосерийных', 'фильмов', 'могут', 'смотреть', 'сериал', 'карточный', 'домик', 'онлайн', 'http', 'www', 'amediateka', 'ru', 'serial', 'kartochnyi', 'domik', '1bbdfa28', 'f23f', '4b16', '8798', '9ba5e69a3bb1', 'высоком', 'качестве', 'абсолютно', 'бесплатно', 'можно', 'интернет', 'кинотеатре', 'амедиатека', 'любое', 'удобное', 'время', 'его', 'фильмотеке', 'собраны', 'все', 'самые', 'популярные', 'фильмы', 'сериалы', 'которые', 'можно', 'найти', 'сети', 'один', 'из', 'объективных', 'показателей', 'успеха', 'любого', 'нового', 'фильма', 'является', 'кассовый', 'сбор', 'который', 'зависит', 'не', 'только', 'от', 'качества', 'ленты', 'актерского', 'мастерства', 'но', 'от', 'масштаба', 'рекламной', 'кампании', 'многих', 'других', 'факторов', 'одним', 'из', 'важных', 'моментов', 'является', 'участие', 'кинофестивалях', 'которые', 'также', 'служат', 'для', 'оценки', 'фильмов', 'каждого', 'фестиваля', 'со', 'временем', 'складывается', 'своя', 'особая', 'репутация', 'ежегодно', 'петропавловки', 'собираются', 'около', '20', '000', 'человек', 'чтобы', 'стать', 'участником', 'феноменального', 'действа', 'этом', 'году', 'ожидается', 'ещё', 'больше', 'open', 'cinema', 'празднует', 'десятилетие', 'откроет', 'фестиваль', 'августа', 'грандиозное', 'шоу', 'духе', 'советского', 'авангарда', 'от', 'анти', 'вокально', 'инструментального', 'ансамбля', 'антона', 'асадинского', 'тут', 'вам', 'акробатические', 'этюды', 'от', 'стилизованной', 'физкультурной', 'группы', 'перфоманс', 'участием', 'духовой', 'секции', 'прочие', 'приметы', 'времени', 'сразу', 'после', 'окончания', 'шоу', 'зрители', 'увидят', 'лучшие', 'фильмы', 'фестиваля', 'за', 'все', '10', 'лет', 'во', 'второй', 'день', 'августа', 'на', 'пляже', 'петропавловской', 'крепости', 'выступит', 'популярная', 'питерская', 'группа', 'ива', 'нова', 'совмещающая', 'своем', 'творчестве', 'славянские', 'мотивы', 'панковский', 'напор', 'танцевальные', 'техно', 'ритмы', 'сразу', 'после', 'концерта', 'театр', 'ахе', 'представит', 'необычный', 'спектакль', 'монохром', 'артисты', 'называют', 'свою', 'группу', 'постиндустриальным', 'кабаре', 'выступления', 'посвящают', 'абсолютно', 'любому', 'событию', 'здесь', 'сейчас', 'наступлением', 'полной', 'темноты', 'экран', 'вспыхнет', 'пламенем', 'нового', 'киноискусства', 'зрителям', 'покажут', 'самые', 'интересные', 'точки', 'зрения', 'худсовета']\n",
      "_______\n",
      "['этом', 'году', 'столичные', 'власти', 'вновь', 'порадуют', 'горожан', 'большим', 'весенним', 'праздником', 'по', '11', 'мая', 'городе', 'будут', 'работать', '16', 'площадок', 'фестиваля', 'московская', 'весна', 'пять', 'центральных', 'одиннадцать', 'окружных', 'этом', 'году', 'главные', 'фестивальные', 'события', 'посвящены', '70', 'летию', 'великой', 'победы', 'улицы', 'города', 'торговые', 'шале', 'будут', 'оформлены', 'едином', 'праздничном', 'стиле', 'тематическое', 'оформление', 'необычные', 'экспонаты', 'стиле', 'ретро', 'позволят', 'москвичам', 'полной', 'мере', 'ощутить', 'дыхание', 'прошлого', 'каждый', 'день', 'удивит', 'горожан', 'новыми', 'культурно', 'просветительскими', 'проектами', 'так', 'мая', 'новопушкинскинском', 'сквере', 'откроется', 'выставка', 'рисунков', 'воспитанников', 'детских', 'домов', 'посвященных', 'великой', 'отечественной', 'войне', 'мероприятие', 'посетят', 'звезды', 'кино', 'телевидения', 'также', 'этот', 'день', 'на', 'сокольнической', 'площади', 'состоится', 'концерт', 'александра', 'скляра', 'роли', 'ведущего', 'выступит', 'родион', 'газманов', 'он', 'расскажет', 'гостям', 'фестиваля', 'культурной', 'жизни', 'военное', 'время', 'ведь', 'даже', 'самые', 'тяжелые', 'годы', 'проходили', 'театральные', 'премьеры', 'концерты', 'снималось', 'кино', 'мая', 'на', 'стадионе', 'останкинском', 'парке', 'пройдет', 'реконструкция', 'исторического', 'футбольного', 'матча', 'на', 'руинах', 'сталинграда', 'http', 'kudago', 'com', 'msk', 'event', 'rekonstrukciya', 'futbolnogo', 'matcha', 'na', 'ruinah', 'staling', 'спортсмены', 'зрители', 'вспомнят', 'легендарную', 'игру', 'спартака', 'против', 'динамо', 'которая', 'состоялась', 'освобожденном', 'городе', 'этот', 'же', 'день', 'далеком', '1943', 'году', 'реконструкции', 'памятного', 'матча', 'примут', 'участие', 'ветераны', 'московских', 'клубов', 'спартак', 'динамо', 'следующий', 'день', 'мая', 'будет', 'посвящен', 'празднованию', 'дня', 'партизанской', 'славы', 'на', 'арбате', 'откроется', 'скульптурная', 'выставка', 'молодая', 'гвардия', 'принять', 'ней', 'участие', 'могли', 'все', 'желающие', 'для', 'этого', 'нужно', 'было', 'нарисовать', 'эскиз', 'памятника', 'изображающего', 'героев', 'партизанского', 'движения', 'именно', 'членов', 'подпольной', 'ячейки', 'молодая', 'гвардия', 'три', 'лучшие', 'работы', 'представят', 'на', 'арбате', 'мая', 'климентовском', 'переулке', 'заработает', 'выставка', 'дети', 'идут', 'школу', 'ведь', 'именно', 'этот', 'день', '1942', 'году', 'вновь', 'заработали', 'школы', 'блокадного', 'ленинграда', 'экспозиция', 'включает', 'фотографии', 'школьников', 'тех', 'лет', 'также', 'реконструированный', 'школьный', 'класс', 'партами', 'доской', 'тетрадями', 'учебниками', 'полностью', 'соответствующими']\n"
     ]
    }
   ],
   "source": [
    "dist, nums = nn.kneighbors(X_wv[None, n_sample], 5)\n",
    "print(*df.iloc[nums[0]].Description.str[:250], sep='\\n_______\\n')"
   ]
  },
  {
   "cell_type": "code",
   "execution_count": null,
   "metadata": {},
   "outputs": [],
   "source": []
  },
  {
   "cell_type": "code",
   "execution_count": null,
   "metadata": {},
   "outputs": [],
   "source": []
  },
  {
   "cell_type": "code",
   "execution_count": null,
   "metadata": {},
   "outputs": [],
   "source": []
  }
 ],
 "metadata": {
  "kernelspec": {
   "display_name": "Python 3",
   "language": "python",
   "name": "python3"
  },
  "language_info": {
   "codemirror_mode": {
    "name": "ipython",
    "version": 3
   },
   "file_extension": ".py",
   "mimetype": "text/x-python",
   "name": "python",
   "nbconvert_exporter": "python",
   "pygments_lexer": "ipython3",
   "version": "3.8.5"
  }
 },
 "nbformat": 4,
 "nbformat_minor": 5
}
